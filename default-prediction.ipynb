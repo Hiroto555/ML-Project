{
 "cells": [
  {
   "cell_type": "raw",
   "id": "393458de",
   "metadata": {
    "papermill": {
     "duration": 0.004016,
     "end_time": "2023-01-19T08:38:55.626779",
     "exception": false,
     "start_time": "2023-01-19T08:38:55.622763",
     "status": "completed"
    },
    "tags": []
   },
   "source": []
  },
  {
   "cell_type": "code",
   "execution_count": 1,
   "id": "febc3418",
   "metadata": {
    "_cell_guid": "b1076dfc-b9ad-4769-8c92-a6c4dae69d19",
    "_uuid": "8f2839f25d086af736a60e9eeb907d3b93b6e0e5",
    "execution": {
     "iopub.execute_input": "2023-01-19T08:38:55.635182Z",
     "iopub.status.busy": "2023-01-19T08:38:55.634711Z",
     "iopub.status.idle": "2023-01-19T08:38:55.653445Z",
     "shell.execute_reply": "2023-01-19T08:38:55.652360Z"
    },
    "papermill": {
     "duration": 0.026017,
     "end_time": "2023-01-19T08:38:55.656106",
     "exception": false,
     "start_time": "2023-01-19T08:38:55.630089",
     "status": "completed"
    },
    "tags": []
   },
   "outputs": [
    {
     "name": "stdout",
     "output_type": "stream",
     "text": [
      "/kaggle/input/case-study-probability-of-default/Case Study-Probability of Default.pdf\n",
      "/kaggle/input/case-study-probability-of-default/Case Study- Probability of Default.csv\n"
     ]
    }
   ],
   "source": [
    "# This Python 3 environment comes with many helpful analytics libraries installed\n",
    "# It is defined by the kaggle/python Docker image: https://github.com/kaggle/docker-python\n",
    "# For example, here's several helpful packages to load\n",
    "\n",
    "import numpy as np # linear algebra\n",
    "import pandas as pd # data processing, CSV file I/O (e.g. pd.read_csv)\n",
    "\n",
    "# Input data files are available in the read-only \"../input/\" directory\n",
    "# For example, running this (by clicking run or pressing Shift+Enter) will list all files under the input directory\n",
    "\n",
    "import os\n",
    "for dirname, _, filenames in os.walk('/kaggle/input'):\n",
    "    for filename in filenames:\n",
    "        print(os.path.join(dirname, filename))\n",
    "\n",
    "# You can write up to 20GB to the current directory (/kaggle/working/) that gets preserved as output when you create a version using \"Save & Run All\" \n",
    "# You can also write temporary files to /kaggle/temp/, but they won't be saved outside of the current session"
   ]
  },
  {
   "cell_type": "code",
   "execution_count": 2,
   "id": "9de0e36e",
   "metadata": {
    "execution": {
     "iopub.execute_input": "2023-01-19T08:38:55.664420Z",
     "iopub.status.busy": "2023-01-19T08:38:55.663847Z",
     "iopub.status.idle": "2023-01-19T08:38:56.858509Z",
     "shell.execute_reply": "2023-01-19T08:38:56.857535Z"
    },
    "papermill": {
     "duration": 1.201644,
     "end_time": "2023-01-19T08:38:56.860989",
     "exception": false,
     "start_time": "2023-01-19T08:38:55.659345",
     "status": "completed"
    },
    "tags": []
   },
   "outputs": [],
   "source": [
    "import pandas as pd\n",
    "import numpy as np\n",
    "import matplotlib.pyplot as plt\n",
    "import seaborn as sns\n",
    "\n",
    "from sklearn.model_selection import train_test_split"
   ]
  },
  {
   "cell_type": "code",
   "execution_count": 3,
   "id": "536ea751",
   "metadata": {
    "execution": {
     "iopub.execute_input": "2023-01-19T08:38:56.869033Z",
     "iopub.status.busy": "2023-01-19T08:38:56.868408Z",
     "iopub.status.idle": "2023-01-19T08:38:57.159245Z",
     "shell.execute_reply": "2023-01-19T08:38:57.158106Z"
    },
    "papermill": {
     "duration": 0.297882,
     "end_time": "2023-01-19T08:38:57.161996",
     "exception": false,
     "start_time": "2023-01-19T08:38:56.864114",
     "status": "completed"
    },
    "tags": []
   },
   "outputs": [],
   "source": [
    "df = pd.read_csv('/kaggle/input/case-study-probability-of-default/Case Study- Probability of Default.csv')"
   ]
  },
  {
   "cell_type": "code",
   "execution_count": 4,
   "id": "2d1a859f",
   "metadata": {
    "execution": {
     "iopub.execute_input": "2023-01-19T08:38:57.169741Z",
     "iopub.status.busy": "2023-01-19T08:38:57.169371Z",
     "iopub.status.idle": "2023-01-19T08:38:57.195560Z",
     "shell.execute_reply": "2023-01-19T08:38:57.194437Z"
    },
    "papermill": {
     "duration": 0.033057,
     "end_time": "2023-01-19T08:38:57.198221",
     "exception": false,
     "start_time": "2023-01-19T08:38:57.165164",
     "status": "completed"
    },
    "tags": []
   },
   "outputs": [
    {
     "data": {
      "text/html": [
       "<div>\n",
       "<style scoped>\n",
       "    .dataframe tbody tr th:only-of-type {\n",
       "        vertical-align: middle;\n",
       "    }\n",
       "\n",
       "    .dataframe tbody tr th {\n",
       "        vertical-align: top;\n",
       "    }\n",
       "\n",
       "    .dataframe thead th {\n",
       "        text-align: right;\n",
       "    }\n",
       "</style>\n",
       "<table border=\"1\" class=\"dataframe\">\n",
       "  <thead>\n",
       "    <tr style=\"text-align: right;\">\n",
       "      <th></th>\n",
       "      <th>PaymentMissFlag</th>\n",
       "      <th>AverageUtilization</th>\n",
       "      <th>Age</th>\n",
       "      <th>NumberOfUpto90DaysLate</th>\n",
       "      <th>RevolvingRatio</th>\n",
       "      <th>MonthlyIncome</th>\n",
       "      <th>NumberOfOpenCreditLines</th>\n",
       "      <th>NumberOfWaiverRequested</th>\n",
       "      <th>NumberSecuredLoansOrLines</th>\n",
       "      <th>NumberOfCreditEnquiry</th>\n",
       "      <th>NumberOfDependents</th>\n",
       "      <th>status</th>\n",
       "    </tr>\n",
       "  </thead>\n",
       "  <tbody>\n",
       "    <tr>\n",
       "      <th>0</th>\n",
       "      <td>1</td>\n",
       "      <td>0.7661</td>\n",
       "      <td>45</td>\n",
       "      <td>2</td>\n",
       "      <td>0.8030</td>\n",
       "      <td>9120.0</td>\n",
       "      <td>13</td>\n",
       "      <td>0</td>\n",
       "      <td>6</td>\n",
       "      <td>0</td>\n",
       "      <td>2.0</td>\n",
       "      <td>RICH</td>\n",
       "    </tr>\n",
       "    <tr>\n",
       "      <th>1</th>\n",
       "      <td>0</td>\n",
       "      <td>0.9572</td>\n",
       "      <td>40</td>\n",
       "      <td>0</td>\n",
       "      <td>0.1219</td>\n",
       "      <td>2600.0</td>\n",
       "      <td>4</td>\n",
       "      <td>0</td>\n",
       "      <td>0</td>\n",
       "      <td>0</td>\n",
       "      <td>1.0</td>\n",
       "      <td>POOR</td>\n",
       "    </tr>\n",
       "    <tr>\n",
       "      <th>2</th>\n",
       "      <td>0</td>\n",
       "      <td>0.6582</td>\n",
       "      <td>38</td>\n",
       "      <td>1</td>\n",
       "      <td>0.0851</td>\n",
       "      <td>3042.0</td>\n",
       "      <td>2</td>\n",
       "      <td>1</td>\n",
       "      <td>0</td>\n",
       "      <td>0</td>\n",
       "      <td>0.0</td>\n",
       "      <td>MIDDLE</td>\n",
       "    </tr>\n",
       "    <tr>\n",
       "      <th>3</th>\n",
       "      <td>0</td>\n",
       "      <td>0.2338</td>\n",
       "      <td>30</td>\n",
       "      <td>0</td>\n",
       "      <td>0.0360</td>\n",
       "      <td>3300.0</td>\n",
       "      <td>5</td>\n",
       "      <td>0</td>\n",
       "      <td>0</td>\n",
       "      <td>0</td>\n",
       "      <td>0.0</td>\n",
       "      <td>LOWMIDDLE</td>\n",
       "    </tr>\n",
       "    <tr>\n",
       "      <th>4</th>\n",
       "      <td>0</td>\n",
       "      <td>0.9072</td>\n",
       "      <td>49</td>\n",
       "      <td>1</td>\n",
       "      <td>0.0249</td>\n",
       "      <td>63588.0</td>\n",
       "      <td>7</td>\n",
       "      <td>0</td>\n",
       "      <td>1</td>\n",
       "      <td>0</td>\n",
       "      <td>0.0</td>\n",
       "      <td>VERYRICH</td>\n",
       "    </tr>\n",
       "  </tbody>\n",
       "</table>\n",
       "</div>"
      ],
      "text/plain": [
       "   PaymentMissFlag  AverageUtilization  Age  NumberOfUpto90DaysLate  \\\n",
       "0                1              0.7661   45                       2   \n",
       "1                0              0.9572   40                       0   \n",
       "2                0              0.6582   38                       1   \n",
       "3                0              0.2338   30                       0   \n",
       "4                0              0.9072   49                       1   \n",
       "\n",
       "   RevolvingRatio   MonthlyIncome   NumberOfOpenCreditLines   \\\n",
       "0           0.8030          9120.0                        13   \n",
       "1           0.1219          2600.0                         4   \n",
       "2           0.0851          3042.0                         2   \n",
       "3           0.0360          3300.0                         5   \n",
       "4           0.0249         63588.0                         7   \n",
       "\n",
       "   NumberOfWaiverRequested   NumberSecuredLoansOrLines   \\\n",
       "0                         0                           6   \n",
       "1                         0                           0   \n",
       "2                         1                           0   \n",
       "3                         0                           0   \n",
       "4                         0                           1   \n",
       "\n",
       "   NumberOfCreditEnquiry   NumberOfDependents     status  \n",
       "0                       0                 2.0       RICH  \n",
       "1                       0                 1.0       POOR  \n",
       "2                       0                 0.0     MIDDLE  \n",
       "3                       0                 0.0  LOWMIDDLE  \n",
       "4                       0                 0.0   VERYRICH  "
      ]
     },
     "execution_count": 4,
     "metadata": {},
     "output_type": "execute_result"
    }
   ],
   "source": [
    "df.head()"
   ]
  },
  {
   "cell_type": "code",
   "execution_count": 5,
   "id": "4b63eef2",
   "metadata": {
    "execution": {
     "iopub.execute_input": "2023-01-19T08:38:57.207618Z",
     "iopub.status.busy": "2023-01-19T08:38:57.206580Z",
     "iopub.status.idle": "2023-01-19T08:38:57.215511Z",
     "shell.execute_reply": "2023-01-19T08:38:57.214593Z"
    },
    "papermill": {
     "duration": 0.016062,
     "end_time": "2023-01-19T08:38:57.217819",
     "exception": false,
     "start_time": "2023-01-19T08:38:57.201757",
     "status": "completed"
    },
    "tags": []
   },
   "outputs": [
    {
     "data": {
      "text/plain": [
       "Index(['PaymentMissFlag', 'AverageUtilization', 'Age',\n",
       "       'NumberOfUpto90DaysLate', 'RevolvingRatio ', 'MonthlyIncome ',\n",
       "       'NumberOfOpenCreditLines ', 'NumberOfWaiverRequested ',\n",
       "       'NumberSecuredLoansOrLines ', 'NumberOfCreditEnquiry ',\n",
       "       'NumberOfDependents', 'status'],\n",
       "      dtype='object')"
      ]
     },
     "execution_count": 5,
     "metadata": {},
     "output_type": "execute_result"
    }
   ],
   "source": [
    "df.columns"
   ]
  },
  {
   "cell_type": "code",
   "execution_count": 6,
   "id": "982dec79",
   "metadata": {
    "execution": {
     "iopub.execute_input": "2023-01-19T08:38:57.226592Z",
     "iopub.status.busy": "2023-01-19T08:38:57.226167Z",
     "iopub.status.idle": "2023-01-19T08:38:57.233375Z",
     "shell.execute_reply": "2023-01-19T08:38:57.232260Z"
    },
    "papermill": {
     "duration": 0.014195,
     "end_time": "2023-01-19T08:38:57.235720",
     "exception": false,
     "start_time": "2023-01-19T08:38:57.221525",
     "status": "completed"
    },
    "tags": []
   },
   "outputs": [
    {
     "data": {
      "text/plain": [
       "(150000, 12)"
      ]
     },
     "execution_count": 6,
     "metadata": {},
     "output_type": "execute_result"
    }
   ],
   "source": [
    "df.shape"
   ]
  },
  {
   "cell_type": "code",
   "execution_count": 7,
   "id": "7e2fafc9",
   "metadata": {
    "execution": {
     "iopub.execute_input": "2023-01-19T08:38:57.244419Z",
     "iopub.status.busy": "2023-01-19T08:38:57.244024Z",
     "iopub.status.idle": "2023-01-19T08:38:57.323949Z",
     "shell.execute_reply": "2023-01-19T08:38:57.322680Z"
    },
    "papermill": {
     "duration": 0.087491,
     "end_time": "2023-01-19T08:38:57.326809",
     "exception": false,
     "start_time": "2023-01-19T08:38:57.239318",
     "status": "completed"
    },
    "tags": []
   },
   "outputs": [],
   "source": [
    "df['RevolvingRatio'] = df['RevolvingRatio ']\n",
    "df['MonthlyIncome'] = df['MonthlyIncome ']\n",
    "df['NumberOfOpenCreditLines'] = df['NumberOfOpenCreditLines ']\n",
    "df['NumberOfWaiverRequested'] = df['NumberOfWaiverRequested ']\n",
    "df['NumberSecuredLoansOrLines'] = df['NumberSecuredLoansOrLines ']\n",
    "df['NumberOfCreditEnquiry'] = df['NumberOfCreditEnquiry ']\n",
    "# df.drop('column_name', axis=1, inplace=True)\n",
    "df.drop('RevolvingRatio ', axis=1, inplace=True)\n",
    "df.drop('MonthlyIncome ', axis=1, inplace=True)\n",
    "df.drop('NumberOfOpenCreditLines ', axis=1, inplace=True)\n",
    "df.drop('NumberOfWaiverRequested ', axis=1, inplace=True)\n",
    "df.drop('NumberSecuredLoansOrLines ', axis=1, inplace=True)\n",
    "df.drop('NumberOfCreditEnquiry ', axis=1, inplace=True)\n",
    "  "
   ]
  },
  {
   "cell_type": "code",
   "execution_count": null,
   "id": "06d0d404",
   "metadata": {
    "papermill": {
     "duration": 0.003465,
     "end_time": "2023-01-19T08:38:57.334074",
     "exception": false,
     "start_time": "2023-01-19T08:38:57.330609",
     "status": "completed"
    },
    "tags": []
   },
   "outputs": [],
   "source": []
  }
 ],
 "metadata": {
  "kernelspec": {
   "display_name": "Python 3",
   "language": "python",
   "name": "python3"
  },
  "language_info": {
   "codemirror_mode": {
    "name": "ipython",
    "version": 3
   },
   "file_extension": ".py",
   "mimetype": "text/x-python",
   "name": "python",
   "nbconvert_exporter": "python",
   "pygments_lexer": "ipython3",
   "version": "3.7.12"
  },
  "papermill": {
   "default_parameters": {},
   "duration": 12.254085,
   "end_time": "2023-01-19T08:38:58.060408",
   "environment_variables": {},
   "exception": null,
   "input_path": "__notebook__.ipynb",
   "output_path": "__notebook__.ipynb",
   "parameters": {},
   "start_time": "2023-01-19T08:38:45.806323",
   "version": "2.3.4"
  }
 },
 "nbformat": 4,
 "nbformat_minor": 5
}
