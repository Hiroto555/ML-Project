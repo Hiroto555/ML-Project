{
 "cells": [
  {
   "cell_type": "raw",
   "id": "dbfdf171",
   "metadata": {
    "papermill": {
     "duration": 0.018556,
     "end_time": "2023-01-19T23:43:15.092770",
     "exception": false,
     "start_time": "2023-01-19T23:43:15.074214",
     "status": "completed"
    },
    "tags": []
   },
   "source": []
  },
  {
   "cell_type": "code",
   "execution_count": 1,
   "id": "698534ce",
   "metadata": {
    "_cell_guid": "b1076dfc-b9ad-4769-8c92-a6c4dae69d19",
    "_uuid": "8f2839f25d086af736a60e9eeb907d3b93b6e0e5",
    "execution": {
     "iopub.execute_input": "2023-01-19T23:43:15.125487Z",
     "iopub.status.busy": "2023-01-19T23:43:15.124765Z",
     "iopub.status.idle": "2023-01-19T23:43:15.148114Z",
     "shell.execute_reply": "2023-01-19T23:43:15.146911Z"
    },
    "papermill": {
     "duration": 0.04318,
     "end_time": "2023-01-19T23:43:15.151596",
     "exception": false,
     "start_time": "2023-01-19T23:43:15.108416",
     "status": "completed"
    },
    "tags": []
   },
   "outputs": [
    {
     "name": "stdout",
     "output_type": "stream",
     "text": [
      "/kaggle/input/case-study-probability-of-default/Case Study-Probability of Default.pdf\n",
      "/kaggle/input/case-study-probability-of-default/Case Study- Probability of Default.csv\n"
     ]
    }
   ],
   "source": [
    "# This Python 3 environment comes with many helpful analytics libraries installed\n",
    "# It is defined by the kaggle/python Docker image: https://github.com/kaggle/docker-python\n",
    "# For example, here's several helpful packages to load\n",
    "\n",
    "import numpy as np # linear algebra\n",
    "import pandas as pd # data processing, CSV file I/O (e.g. pd.read_csv)\n",
    "\n",
    "# Input data files are available in the read-only \"../input/\" directory\n",
    "# For example, running this (by clicking run or pressing Shift+Enter) will list all files under the input directory\n",
    "\n",
    "import os\n",
    "for dirname, _, filenames in os.walk('/kaggle/input'):\n",
    "    for filename in filenames:\n",
    "        print(os.path.join(dirname, filename))\n",
    "\n",
    "# You can write up to 20GB to the current directory (/kaggle/working/) that gets preserved as output when you create a version using \"Save & Run All\" \n",
    "# You can also write temporary files to /kaggle/temp/, but they won't be saved outside of the current session"
   ]
  },
  {
   "cell_type": "code",
   "execution_count": 2,
   "id": "f25320ce",
   "metadata": {
    "execution": {
     "iopub.execute_input": "2023-01-19T23:43:15.185367Z",
     "iopub.status.busy": "2023-01-19T23:43:15.184598Z",
     "iopub.status.idle": "2023-01-19T23:43:16.556451Z",
     "shell.execute_reply": "2023-01-19T23:43:16.555537Z"
    },
    "papermill": {
     "duration": 1.391395,
     "end_time": "2023-01-19T23:43:16.559089",
     "exception": false,
     "start_time": "2023-01-19T23:43:15.167694",
     "status": "completed"
    },
    "tags": []
   },
   "outputs": [],
   "source": [
    "import pandas as pd\n",
    "import numpy as np\n",
    "import matplotlib.pyplot as plt\n",
    "import seaborn as sns\n",
    "\n",
    "from sklearn.model_selection import train_test_split\n",
    "from sklearn.preprocessing import StandardScaler"
   ]
  },
  {
   "cell_type": "code",
   "execution_count": 3,
   "id": "9138a3a9",
   "metadata": {
    "execution": {
     "iopub.execute_input": "2023-01-19T23:43:16.590481Z",
     "iopub.status.busy": "2023-01-19T23:43:16.589785Z",
     "iopub.status.idle": "2023-01-19T23:43:16.881807Z",
     "shell.execute_reply": "2023-01-19T23:43:16.880542Z"
    },
    "papermill": {
     "duration": 0.310927,
     "end_time": "2023-01-19T23:43:16.884662",
     "exception": false,
     "start_time": "2023-01-19T23:43:16.573735",
     "status": "completed"
    },
    "tags": []
   },
   "outputs": [],
   "source": [
    "df = pd.read_csv('/kaggle/input/case-study-probability-of-default/Case Study- Probability of Default.csv')"
   ]
  },
  {
   "cell_type": "code",
   "execution_count": 4,
   "id": "1bb26ed1",
   "metadata": {
    "execution": {
     "iopub.execute_input": "2023-01-19T23:43:16.916535Z",
     "iopub.status.busy": "2023-01-19T23:43:16.915776Z",
     "iopub.status.idle": "2023-01-19T23:43:16.941478Z",
     "shell.execute_reply": "2023-01-19T23:43:16.940300Z"
    },
    "papermill": {
     "duration": 0.044794,
     "end_time": "2023-01-19T23:43:16.944125",
     "exception": false,
     "start_time": "2023-01-19T23:43:16.899331",
     "status": "completed"
    },
    "tags": []
   },
   "outputs": [
    {
     "data": {
      "text/html": [
       "<div>\n",
       "<style scoped>\n",
       "    .dataframe tbody tr th:only-of-type {\n",
       "        vertical-align: middle;\n",
       "    }\n",
       "\n",
       "    .dataframe tbody tr th {\n",
       "        vertical-align: top;\n",
       "    }\n",
       "\n",
       "    .dataframe thead th {\n",
       "        text-align: right;\n",
       "    }\n",
       "</style>\n",
       "<table border=\"1\" class=\"dataframe\">\n",
       "  <thead>\n",
       "    <tr style=\"text-align: right;\">\n",
       "      <th></th>\n",
       "      <th>PaymentMissFlag</th>\n",
       "      <th>AverageUtilization</th>\n",
       "      <th>Age</th>\n",
       "      <th>NumberOfUpto90DaysLate</th>\n",
       "      <th>RevolvingRatio</th>\n",
       "      <th>MonthlyIncome</th>\n",
       "      <th>NumberOfOpenCreditLines</th>\n",
       "      <th>NumberOfWaiverRequested</th>\n",
       "      <th>NumberSecuredLoansOrLines</th>\n",
       "      <th>NumberOfCreditEnquiry</th>\n",
       "      <th>NumberOfDependents</th>\n",
       "      <th>status</th>\n",
       "    </tr>\n",
       "  </thead>\n",
       "  <tbody>\n",
       "    <tr>\n",
       "      <th>0</th>\n",
       "      <td>1</td>\n",
       "      <td>0.7661</td>\n",
       "      <td>45</td>\n",
       "      <td>2</td>\n",
       "      <td>0.8030</td>\n",
       "      <td>9120.0</td>\n",
       "      <td>13</td>\n",
       "      <td>0</td>\n",
       "      <td>6</td>\n",
       "      <td>0</td>\n",
       "      <td>2.0</td>\n",
       "      <td>RICH</td>\n",
       "    </tr>\n",
       "    <tr>\n",
       "      <th>1</th>\n",
       "      <td>0</td>\n",
       "      <td>0.9572</td>\n",
       "      <td>40</td>\n",
       "      <td>0</td>\n",
       "      <td>0.1219</td>\n",
       "      <td>2600.0</td>\n",
       "      <td>4</td>\n",
       "      <td>0</td>\n",
       "      <td>0</td>\n",
       "      <td>0</td>\n",
       "      <td>1.0</td>\n",
       "      <td>POOR</td>\n",
       "    </tr>\n",
       "    <tr>\n",
       "      <th>2</th>\n",
       "      <td>0</td>\n",
       "      <td>0.6582</td>\n",
       "      <td>38</td>\n",
       "      <td>1</td>\n",
       "      <td>0.0851</td>\n",
       "      <td>3042.0</td>\n",
       "      <td>2</td>\n",
       "      <td>1</td>\n",
       "      <td>0</td>\n",
       "      <td>0</td>\n",
       "      <td>0.0</td>\n",
       "      <td>MIDDLE</td>\n",
       "    </tr>\n",
       "    <tr>\n",
       "      <th>3</th>\n",
       "      <td>0</td>\n",
       "      <td>0.2338</td>\n",
       "      <td>30</td>\n",
       "      <td>0</td>\n",
       "      <td>0.0360</td>\n",
       "      <td>3300.0</td>\n",
       "      <td>5</td>\n",
       "      <td>0</td>\n",
       "      <td>0</td>\n",
       "      <td>0</td>\n",
       "      <td>0.0</td>\n",
       "      <td>LOWMIDDLE</td>\n",
       "    </tr>\n",
       "    <tr>\n",
       "      <th>4</th>\n",
       "      <td>0</td>\n",
       "      <td>0.9072</td>\n",
       "      <td>49</td>\n",
       "      <td>1</td>\n",
       "      <td>0.0249</td>\n",
       "      <td>63588.0</td>\n",
       "      <td>7</td>\n",
       "      <td>0</td>\n",
       "      <td>1</td>\n",
       "      <td>0</td>\n",
       "      <td>0.0</td>\n",
       "      <td>VERYRICH</td>\n",
       "    </tr>\n",
       "  </tbody>\n",
       "</table>\n",
       "</div>"
      ],
      "text/plain": [
       "   PaymentMissFlag  AverageUtilization  Age  NumberOfUpto90DaysLate  \\\n",
       "0                1              0.7661   45                       2   \n",
       "1                0              0.9572   40                       0   \n",
       "2                0              0.6582   38                       1   \n",
       "3                0              0.2338   30                       0   \n",
       "4                0              0.9072   49                       1   \n",
       "\n",
       "   RevolvingRatio   MonthlyIncome   NumberOfOpenCreditLines   \\\n",
       "0           0.8030          9120.0                        13   \n",
       "1           0.1219          2600.0                         4   \n",
       "2           0.0851          3042.0                         2   \n",
       "3           0.0360          3300.0                         5   \n",
       "4           0.0249         63588.0                         7   \n",
       "\n",
       "   NumberOfWaiverRequested   NumberSecuredLoansOrLines   \\\n",
       "0                         0                           6   \n",
       "1                         0                           0   \n",
       "2                         1                           0   \n",
       "3                         0                           0   \n",
       "4                         0                           1   \n",
       "\n",
       "   NumberOfCreditEnquiry   NumberOfDependents     status  \n",
       "0                       0                 2.0       RICH  \n",
       "1                       0                 1.0       POOR  \n",
       "2                       0                 0.0     MIDDLE  \n",
       "3                       0                 0.0  LOWMIDDLE  \n",
       "4                       0                 0.0   VERYRICH  "
      ]
     },
     "execution_count": 4,
     "metadata": {},
     "output_type": "execute_result"
    }
   ],
   "source": [
    "df.head()"
   ]
  },
  {
   "cell_type": "code",
   "execution_count": 5,
   "id": "23459b62",
   "metadata": {
    "execution": {
     "iopub.execute_input": "2023-01-19T23:43:16.976118Z",
     "iopub.status.busy": "2023-01-19T23:43:16.975329Z",
     "iopub.status.idle": "2023-01-19T23:43:16.982730Z",
     "shell.execute_reply": "2023-01-19T23:43:16.981722Z"
    },
    "papermill": {
     "duration": 0.025954,
     "end_time": "2023-01-19T23:43:16.985004",
     "exception": false,
     "start_time": "2023-01-19T23:43:16.959050",
     "status": "completed"
    },
    "tags": []
   },
   "outputs": [
    {
     "data": {
      "text/plain": [
       "Index(['PaymentMissFlag', 'AverageUtilization', 'Age',\n",
       "       'NumberOfUpto90DaysLate', 'RevolvingRatio ', 'MonthlyIncome ',\n",
       "       'NumberOfOpenCreditLines ', 'NumberOfWaiverRequested ',\n",
       "       'NumberSecuredLoansOrLines ', 'NumberOfCreditEnquiry ',\n",
       "       'NumberOfDependents', 'status'],\n",
       "      dtype='object')"
      ]
     },
     "execution_count": 5,
     "metadata": {},
     "output_type": "execute_result"
    }
   ],
   "source": [
    "df.columns"
   ]
  },
  {
   "cell_type": "code",
   "execution_count": 6,
   "id": "a039191f",
   "metadata": {
    "execution": {
     "iopub.execute_input": "2023-01-19T23:43:17.017174Z",
     "iopub.status.busy": "2023-01-19T23:43:17.016378Z",
     "iopub.status.idle": "2023-01-19T23:43:17.023200Z",
     "shell.execute_reply": "2023-01-19T23:43:17.022375Z"
    },
    "papermill": {
     "duration": 0.02552,
     "end_time": "2023-01-19T23:43:17.025413",
     "exception": false,
     "start_time": "2023-01-19T23:43:16.999893",
     "status": "completed"
    },
    "tags": []
   },
   "outputs": [
    {
     "data": {
      "text/plain": [
       "(150000, 12)"
      ]
     },
     "execution_count": 6,
     "metadata": {},
     "output_type": "execute_result"
    }
   ],
   "source": [
    "df.shape"
   ]
  },
  {
   "cell_type": "code",
   "execution_count": 7,
   "id": "63627e8b",
   "metadata": {
    "execution": {
     "iopub.execute_input": "2023-01-19T23:43:17.057982Z",
     "iopub.status.busy": "2023-01-19T23:43:17.057165Z",
     "iopub.status.idle": "2023-01-19T23:43:17.135626Z",
     "shell.execute_reply": "2023-01-19T23:43:17.134351Z"
    },
    "papermill": {
     "duration": 0.098044,
     "end_time": "2023-01-19T23:43:17.138609",
     "exception": false,
     "start_time": "2023-01-19T23:43:17.040565",
     "status": "completed"
    },
    "tags": []
   },
   "outputs": [],
   "source": [
    "df['RevolvingRatio'] = df['RevolvingRatio ']\n",
    "df['MonthlyIncome'] = df['MonthlyIncome ']\n",
    "df['NumberOfOpenCreditLines'] = df['NumberOfOpenCreditLines ']\n",
    "df['NumberOfWaiverRequested'] = df['NumberOfWaiverRequested ']\n",
    "df['NumberSecuredLoansOrLines'] = df['NumberSecuredLoansOrLines ']\n",
    "df['NumberOfCreditEnquiry'] = df['NumberOfCreditEnquiry ']\n",
    "# df.drop('column_name', axis=1, inplace=True)\n",
    "df.drop('RevolvingRatio ', axis=1, inplace=True)\n",
    "df.drop('MonthlyIncome ', axis=1, inplace=True)\n",
    "df.drop('NumberOfOpenCreditLines ', axis=1, inplace=True)\n",
    "df.drop('NumberOfWaiverRequested ', axis=1, inplace=True)\n",
    "df.drop('NumberSecuredLoansOrLines ', axis=1, inplace=True)\n",
    "df.drop('NumberOfCreditEnquiry ', axis=1, inplace=True)\n",
    "  "
   ]
  },
  {
   "cell_type": "code",
   "execution_count": 8,
   "id": "15ee3e83",
   "metadata": {
    "execution": {
     "iopub.execute_input": "2023-01-19T23:43:17.170987Z",
     "iopub.status.busy": "2023-01-19T23:43:17.170300Z",
     "iopub.status.idle": "2023-01-19T23:43:17.189476Z",
     "shell.execute_reply": "2023-01-19T23:43:17.188196Z"
    },
    "papermill": {
     "duration": 0.038264,
     "end_time": "2023-01-19T23:43:17.192002",
     "exception": false,
     "start_time": "2023-01-19T23:43:17.153738",
     "status": "completed"
    },
    "tags": []
   },
   "outputs": [
    {
     "data": {
      "text/plain": [
       "PaymentMissFlag                  0\n",
       "AverageUtilization               0\n",
       "Age                              0\n",
       "NumberOfUpto90DaysLate           0\n",
       "NumberOfDependents            3924\n",
       "status                          82\n",
       "RevolvingRatio                   0\n",
       "MonthlyIncome                29731\n",
       "NumberOfOpenCreditLines          0\n",
       "NumberOfWaiverRequested          0\n",
       "NumberSecuredLoansOrLines        0\n",
       "NumberOfCreditEnquiry            0\n",
       "dtype: int64"
      ]
     },
     "execution_count": 8,
     "metadata": {},
     "output_type": "execute_result"
    }
   ],
   "source": [
    "df.isna().sum()"
   ]
  },
  {
   "cell_type": "code",
   "execution_count": 9,
   "id": "f8aa2311",
   "metadata": {
    "execution": {
     "iopub.execute_input": "2023-01-19T23:43:17.224394Z",
     "iopub.status.busy": "2023-01-19T23:43:17.223936Z",
     "iopub.status.idle": "2023-01-19T23:43:17.251703Z",
     "shell.execute_reply": "2023-01-19T23:43:17.250307Z"
    },
    "papermill": {
     "duration": 0.046996,
     "end_time": "2023-01-19T23:43:17.254292",
     "exception": false,
     "start_time": "2023-01-19T23:43:17.207296",
     "status": "completed"
    },
    "tags": []
   },
   "outputs": [
    {
     "name": "stdout",
     "output_type": "stream",
     "text": [
      "<class 'pandas.core.frame.DataFrame'>\n",
      "RangeIndex: 150000 entries, 0 to 149999\n",
      "Data columns (total 12 columns):\n",
      " #   Column                     Non-Null Count   Dtype  \n",
      "---  ------                     --------------   -----  \n",
      " 0   PaymentMissFlag            150000 non-null  int64  \n",
      " 1   AverageUtilization         150000 non-null  float64\n",
      " 2   Age                        150000 non-null  int64  \n",
      " 3   NumberOfUpto90DaysLate     150000 non-null  int64  \n",
      " 4   NumberOfDependents         146076 non-null  float64\n",
      " 5   status                     149918 non-null  object \n",
      " 6   RevolvingRatio             150000 non-null  float64\n",
      " 7   MonthlyIncome              120269 non-null  float64\n",
      " 8   NumberOfOpenCreditLines    150000 non-null  int64  \n",
      " 9   NumberOfWaiverRequested    150000 non-null  int64  \n",
      " 10  NumberSecuredLoansOrLines  150000 non-null  int64  \n",
      " 11  NumberOfCreditEnquiry      150000 non-null  int64  \n",
      "dtypes: float64(4), int64(7), object(1)\n",
      "memory usage: 13.7+ MB\n"
     ]
    }
   ],
   "source": [
    "df.info()"
   ]
  },
  {
   "cell_type": "code",
   "execution_count": 10,
   "id": "1e8d4bad",
   "metadata": {
    "execution": {
     "iopub.execute_input": "2023-01-19T23:43:17.287852Z",
     "iopub.status.busy": "2023-01-19T23:43:17.286561Z",
     "iopub.status.idle": "2023-01-19T23:43:17.323126Z",
     "shell.execute_reply": "2023-01-19T23:43:17.322316Z"
    },
    "papermill": {
     "duration": 0.055694,
     "end_time": "2023-01-19T23:43:17.325423",
     "exception": false,
     "start_time": "2023-01-19T23:43:17.269729",
     "status": "completed"
    },
    "tags": []
   },
   "outputs": [
    {
     "data": {
      "text/plain": [
       "PaymentMissFlag                  2\n",
       "AverageUtilization           11985\n",
       "Age                             86\n",
       "NumberOfUpto90DaysLate          16\n",
       "NumberOfDependents              13\n",
       "status                           7\n",
       "RevolvingRatio               19868\n",
       "MonthlyIncome                13594\n",
       "NumberOfOpenCreditLines         58\n",
       "NumberOfWaiverRequested         19\n",
       "NumberSecuredLoansOrLines       28\n",
       "NumberOfCreditEnquiry           13\n",
       "dtype: int64"
      ]
     },
     "execution_count": 10,
     "metadata": {},
     "output_type": "execute_result"
    }
   ],
   "source": [
    "# Checking the number of unique values across each columns\n",
    "df.nunique()"
   ]
  },
  {
   "cell_type": "code",
   "execution_count": 11,
   "id": "9e6dcc1f",
   "metadata": {
    "execution": {
     "iopub.execute_input": "2023-01-19T23:43:17.359067Z",
     "iopub.status.busy": "2023-01-19T23:43:17.357926Z",
     "iopub.status.idle": "2023-01-19T23:43:17.373559Z",
     "shell.execute_reply": "2023-01-19T23:43:17.372522Z"
    },
    "papermill": {
     "duration": 0.034503,
     "end_time": "2023-01-19T23:43:17.375705",
     "exception": false,
     "start_time": "2023-01-19T23:43:17.341202",
     "status": "completed"
    },
    "tags": []
   },
   "outputs": [
    {
     "data": {
      "text/plain": [
       "array(['RICH', 'POOR', 'MIDDLE', 'LOWMIDDLE', 'VERYRICH', nan,\n",
       "       'VERYMIDDLE', 'VERYPOOR'], dtype=object)"
      ]
     },
     "execution_count": 11,
     "metadata": {},
     "output_type": "execute_result"
    }
   ],
   "source": [
    "# Inspect the status column \n",
    "df['status'].unique()"
   ]
  },
  {
   "cell_type": "code",
   "execution_count": 12,
   "id": "601bc39b",
   "metadata": {
    "execution": {
     "iopub.execute_input": "2023-01-19T23:43:17.416498Z",
     "iopub.status.busy": "2023-01-19T23:43:17.415771Z",
     "iopub.status.idle": "2023-01-19T23:43:17.719300Z",
     "shell.execute_reply": "2023-01-19T23:43:17.717259Z"
    },
    "papermill": {
     "duration": 0.326088,
     "end_time": "2023-01-19T23:43:17.721770",
     "exception": false,
     "start_time": "2023-01-19T23:43:17.395682",
     "status": "completed"
    },
    "tags": []
   },
   "outputs": [
    {
     "data": {
      "text/plain": [
       "Text(0.5, 1.0, 'status')"
      ]
     },
     "execution_count": 12,
     "metadata": {},
     "output_type": "execute_result"
    },
    {
     "data": {
      "image/png": "[encoded data removed]",
      "text/plain": [
       "<Figure size 432x288 with 1 Axes>"
      ]
     },
     "metadata": {
      "needs_background": "light"
     },
     "output_type": "display_data"
    }
   ],
   "source": [
    "# Make a bar plot with the number of each unique status\n",
    "fig = df['status'].value_counts().plot.bar()\n",
    "fig.set_title('status')\n"
   ]
  },
  {
   "cell_type": "markdown",
   "id": "4a775816",
   "metadata": {
    "execution": {
     "iopub.execute_input": "2023-01-19T08:52:44.835153Z",
     "iopub.status.busy": "2023-01-19T08:52:44.834272Z",
     "iopub.status.idle": "2023-01-19T08:52:44.841954Z",
     "shell.execute_reply": "2023-01-19T08:52:44.840437Z",
     "shell.execute_reply.started": "2023-01-19T08:52:44.835078Z"
    },
    "papermill": {
     "duration": 0.016404,
     "end_time": "2023-01-19T23:43:17.754380",
     "exception": false,
     "start_time": "2023-01-19T23:43:17.737976",
     "status": "completed"
    },
    "tags": []
   },
   "source": [
    "Data is almost equally distributed "
   ]
  },
  {
   "cell_type": "code",
   "execution_count": 13,
   "id": "98cfb7c0",
   "metadata": {
    "execution": {
     "iopub.execute_input": "2023-01-19T23:43:17.788792Z",
     "iopub.status.busy": "2023-01-19T23:43:17.787858Z",
     "iopub.status.idle": "2023-01-19T23:43:18.037563Z",
     "shell.execute_reply": "2023-01-19T23:43:18.036377Z"
    },
    "papermill": {
     "duration": 0.269618,
     "end_time": "2023-01-19T23:43:18.040123",
     "exception": false,
     "start_time": "2023-01-19T23:43:17.770505",
     "status": "completed"
    },
    "tags": []
   },
   "outputs": [
    {
     "data": {
      "text/plain": [
       "Text(0.5, 1.0, 'NumberOfDependents')"
      ]
     },
     "execution_count": 13,
     "metadata": {},
     "output_type": "execute_result"
    },
    {
     "data": {
      "image/png": "[encoded data removed]",
      "text/plain": [
       "<Figure size 432x288 with 1 Axes>"
      ]
     },
     "metadata": {
      "needs_background": "light"
     },
     "output_type": "display_data"
    }
   ],
   "source": [
    "fig = df['NumberOfDependents'].value_counts().plot.bar()\n",
    "fig.set_title('NumberOfDependents')"
   ]
  },
  {
   "cell_type": "code",
   "execution_count": 14,
   "id": "9f06e76d",
   "metadata": {
    "execution": {
     "iopub.execute_input": "2023-01-19T23:43:18.074435Z",
     "iopub.status.busy": "2023-01-19T23:43:18.073994Z",
     "iopub.status.idle": "2023-01-19T23:43:18.352442Z",
     "shell.execute_reply": "2023-01-19T23:43:18.351276Z"
    },
    "papermill": {
     "duration": 0.298471,
     "end_time": "2023-01-19T23:43:18.354930",
     "exception": false,
     "start_time": "2023-01-19T23:43:18.056459",
     "status": "completed"
    },
    "tags": []
   },
   "outputs": [
    {
     "data": {
      "text/plain": [
       "Text(0.5, 1.0, 'NumberOfUpto90DaysLate')"
      ]
     },
     "execution_count": 14,
     "metadata": {},
     "output_type": "execute_result"
    },
    {
     "data": {
      "image/png": "[encoded data removed]",
      "text/plain": [
       "<Figure size 432x288 with 1 Axes>"
      ]
     },
     "metadata": {
      "needs_background": "light"
     },
     "output_type": "display_data"
    }
   ],
   "source": [
    "fig = df['NumberOfUpto90DaysLate'].value_counts().plot.bar()\n",
    "fig.set_title('NumberOfUpto90DaysLate')"
   ]
  },
  {
   "cell_type": "code",
   "execution_count": 15,
   "id": "e6bfb0f4",
   "metadata": {
    "execution": {
     "iopub.execute_input": "2023-01-19T23:43:18.390843Z",
     "iopub.status.busy": "2023-01-19T23:43:18.389820Z",
     "iopub.status.idle": "2023-01-19T23:43:19.216730Z",
     "shell.execute_reply": "2023-01-19T23:43:19.215582Z"
    },
    "papermill": {
     "duration": 0.847393,
     "end_time": "2023-01-19T23:43:19.219306",
     "exception": false,
     "start_time": "2023-01-19T23:43:18.371913",
     "status": "completed"
    },
    "tags": []
   },
   "outputs": [
    {
     "data": {
      "text/plain": [
       "Text(0.5, 1.0, 'NumberOfOpenCreditLines')"
      ]
     },
     "execution_count": 15,
     "metadata": {},
     "output_type": "execute_result"
    },
    {
     "data": {
      "image/png": "[encoded data removed]",
      "text/plain": [
       "<Figure size 432x288 with 1 Axes>"
      ]
     },
     "metadata": {
      "needs_background": "light"
     },
     "output_type": "display_data"
    }
   ],
   "source": [
    "fig = df['NumberOfOpenCreditLines'].value_counts().plot.bar()\n",
    "fig.set_title('NumberOfOpenCreditLines')"
   ]
  },
  {
   "cell_type": "code",
   "execution_count": 16,
   "id": "d4fa7f27",
   "metadata": {
    "execution": {
     "iopub.execute_input": "2023-01-19T23:43:19.255693Z",
     "iopub.status.busy": "2023-01-19T23:43:19.255263Z",
     "iopub.status.idle": "2023-01-19T23:43:19.565170Z",
     "shell.execute_reply": "2023-01-19T23:43:19.563932Z"
    },
    "papermill": {
     "duration": 0.331214,
     "end_time": "2023-01-19T23:43:19.567831",
     "exception": false,
     "start_time": "2023-01-19T23:43:19.236617",
     "status": "completed"
    },
    "tags": []
   },
   "outputs": [
    {
     "data": {
      "text/plain": [
       "Text(0.5, 1.0, 'NumberOfWaiverRequested')"
      ]
     },
     "execution_count": 16,
     "metadata": {},
     "output_type": "execute_result"
    },
    {
     "data": {
      "image/png": "[encoded data removed]",
      "text/plain": [
       "<Figure size 432x288 with 1 Axes>"
      ]
     },
     "metadata": {
      "needs_background": "light"
     },
     "output_type": "display_data"
    }
   ],
   "source": [
    "fig = df['NumberOfWaiverRequested'].value_counts().plot.bar()\n",
    "fig.set_title('NumberOfWaiverRequested')"
   ]
  },
  {
   "cell_type": "code",
   "execution_count": 17,
   "id": "8b887904",
   "metadata": {
    "execution": {
     "iopub.execute_input": "2023-01-19T23:43:19.605072Z",
     "iopub.status.busy": "2023-01-19T23:43:19.604664Z",
     "iopub.status.idle": "2023-01-19T23:43:19.950376Z",
     "shell.execute_reply": "2023-01-19T23:43:19.949111Z"
    },
    "papermill": {
     "duration": 0.367037,
     "end_time": "2023-01-19T23:43:19.952750",
     "exception": false,
     "start_time": "2023-01-19T23:43:19.585713",
     "status": "completed"
    },
    "tags": []
   },
   "outputs": [
    {
     "data": {
      "text/plain": [
       "Text(0.5, 1.0, 'NumberSecuredLoansOrLines')"
      ]
     },
     "execution_count": 17,
     "metadata": {},
     "output_type": "execute_result"
    },
    {
     "data": {
      "image/png": "[encoded data removed]",
      "text/plain": [
       "<Figure size 432x288 with 1 Axes>"
      ]
     },
     "metadata": {
      "needs_background": "light"
     },
     "output_type": "display_data"
    }
   ],
   "source": [
    "fig = df['NumberSecuredLoansOrLines'].value_counts().plot.bar()\n",
    "fig.set_title('NumberSecuredLoansOrLines')"
   ]
  },
  {
   "cell_type": "code",
   "execution_count": 18,
   "id": "87597ff6",
   "metadata": {
    "execution": {
     "iopub.execute_input": "2023-01-19T23:43:19.990136Z",
     "iopub.status.busy": "2023-01-19T23:43:19.989169Z",
     "iopub.status.idle": "2023-01-19T23:43:20.243182Z",
     "shell.execute_reply": "2023-01-19T23:43:20.242396Z"
    },
    "papermill": {
     "duration": 0.274933,
     "end_time": "2023-01-19T23:43:20.245445",
     "exception": false,
     "start_time": "2023-01-19T23:43:19.970512",
     "status": "completed"
    },
    "tags": []
   },
   "outputs": [
    {
     "data": {
      "text/plain": [
       "Text(0.5, 1.0, 'NumberOfCreditEnquiry')"
      ]
     },
     "execution_count": 18,
     "metadata": {},
     "output_type": "execute_result"
    },
    {
     "data": {
      "image/png": "[encoded data removed]",
      "text/plain": [
       "<Figure size 432x288 with 1 Axes>"
      ]
     },
     "metadata": {
      "needs_background": "light"
     },
     "output_type": "display_data"
    }
   ],
   "source": [
    "figadd_suffix = df['NumberOfCreditEnquiry'].value_counts().plot.bar()\n",
    "fig.set_title('NumberOfCreditEnquiry')"
   ]
  },
  {
   "cell_type": "markdown",
   "id": "8da83ed3",
   "metadata": {
    "papermill": {
     "duration": 0.019241,
     "end_time": "2023-01-19T23:43:20.282947",
     "exception": false,
     "start_time": "2023-01-19T23:43:20.263706",
     "status": "completed"
    },
    "tags": []
   },
   "source": []
  },
  {
   "cell_type": "code",
   "execution_count": 19,
   "id": "704ebe0c",
   "metadata": {
    "execution": {
     "iopub.execute_input": "2023-01-19T23:43:20.321617Z",
     "iopub.status.busy": "2023-01-19T23:43:20.320639Z",
     "iopub.status.idle": "2023-01-19T23:43:20.327326Z",
     "shell.execute_reply": "2023-01-19T23:43:20.326283Z"
    },
    "papermill": {
     "duration": 0.028806,
     "end_time": "2023-01-19T23:43:20.329630",
     "exception": false,
     "start_time": "2023-01-19T23:43:20.300824",
     "status": "completed"
    },
    "tags": []
   },
   "outputs": [
    {
     "data": {
      "text/plain": [
       "Index(['PaymentMissFlag', 'AverageUtilization', 'Age',\n",
       "       'NumberOfUpto90DaysLate', 'NumberOfDependents', 'status',\n",
       "       'RevolvingRatio', 'MonthlyIncome', 'NumberOfOpenCreditLines',\n",
       "       'NumberOfWaiverRequested', 'NumberSecuredLoansOrLines',\n",
       "       'NumberOfCreditEnquiry'],\n",
       "      dtype='object')"
      ]
     },
     "execution_count": 19,
     "metadata": {},
     "output_type": "execute_result"
    }
   ],
   "source": [
    "df.columns"
   ]
  },
  {
   "cell_type": "code",
   "execution_count": 20,
   "id": "e127a234",
   "metadata": {
    "execution": {
     "iopub.execute_input": "2023-01-19T23:43:20.367767Z",
     "iopub.status.busy": "2023-01-19T23:43:20.366800Z",
     "iopub.status.idle": "2023-01-19T23:43:20.426091Z",
     "shell.execute_reply": "2023-01-19T23:43:20.424945Z"
    },
    "papermill": {
     "duration": 0.080649,
     "end_time": "2023-01-19T23:43:20.428374",
     "exception": false,
     "start_time": "2023-01-19T23:43:20.347725",
     "status": "completed"
    },
    "tags": []
   },
   "outputs": [
    {
     "data": {
      "text/html": [
       "<div>\n",
       "<style scoped>\n",
       "    .dataframe tbody tr th:only-of-type {\n",
       "        vertical-align: middle;\n",
       "    }\n",
       "\n",
       "    .dataframe tbody tr th {\n",
       "        vertical-align: top;\n",
       "    }\n",
       "\n",
       "    .dataframe thead th {\n",
       "        text-align: right;\n",
       "    }\n",
       "</style>\n",
       "<table border=\"1\" class=\"dataframe\">\n",
       "  <thead>\n",
       "    <tr style=\"text-align: right;\">\n",
       "      <th></th>\n",
       "      <th>NumberOfUpto90DaysLate</th>\n",
       "      <th>NumberOfDependents</th>\n",
       "      <th>NumberOfOpenCreditLines</th>\n",
       "      <th>NumberOfWaiverRequested</th>\n",
       "      <th>NumberSecuredLoansOrLines</th>\n",
       "      <th>NumberOfCreditEnquiry</th>\n",
       "    </tr>\n",
       "  </thead>\n",
       "  <tbody>\n",
       "    <tr>\n",
       "      <th>count</th>\n",
       "      <td>150000.000000</td>\n",
       "      <td>146076.000000</td>\n",
       "      <td>150000.000000</td>\n",
       "      <td>150000.000000</td>\n",
       "      <td>150000.000000</td>\n",
       "      <td>150000.000000</td>\n",
       "    </tr>\n",
       "    <tr>\n",
       "      <th>mean</th>\n",
       "      <td>0.421033</td>\n",
       "      <td>0.757222</td>\n",
       "      <td>8.452760</td>\n",
       "      <td>0.265973</td>\n",
       "      <td>1.018240</td>\n",
       "      <td>0.240387</td>\n",
       "    </tr>\n",
       "    <tr>\n",
       "      <th>std</th>\n",
       "      <td>4.192781</td>\n",
       "      <td>1.115086</td>\n",
       "      <td>5.145951</td>\n",
       "      <td>4.169304</td>\n",
       "      <td>1.129771</td>\n",
       "      <td>4.155179</td>\n",
       "    </tr>\n",
       "    <tr>\n",
       "      <th>min</th>\n",
       "      <td>0.000000</td>\n",
       "      <td>0.000000</td>\n",
       "      <td>0.000000</td>\n",
       "      <td>0.000000</td>\n",
       "      <td>0.000000</td>\n",
       "      <td>0.000000</td>\n",
       "    </tr>\n",
       "    <tr>\n",
       "      <th>25%</th>\n",
       "      <td>0.000000</td>\n",
       "      <td>0.000000</td>\n",
       "      <td>5.000000</td>\n",
       "      <td>0.000000</td>\n",
       "      <td>0.000000</td>\n",
       "      <td>0.000000</td>\n",
       "    </tr>\n",
       "    <tr>\n",
       "      <th>50%</th>\n",
       "      <td>0.000000</td>\n",
       "      <td>0.000000</td>\n",
       "      <td>8.000000</td>\n",
       "      <td>0.000000</td>\n",
       "      <td>1.000000</td>\n",
       "      <td>0.000000</td>\n",
       "    </tr>\n",
       "    <tr>\n",
       "      <th>75%</th>\n",
       "      <td>0.000000</td>\n",
       "      <td>1.000000</td>\n",
       "      <td>11.000000</td>\n",
       "      <td>0.000000</td>\n",
       "      <td>2.000000</td>\n",
       "      <td>0.000000</td>\n",
       "    </tr>\n",
       "    <tr>\n",
       "      <th>max</th>\n",
       "      <td>98.000000</td>\n",
       "      <td>20.000000</td>\n",
       "      <td>58.000000</td>\n",
       "      <td>98.000000</td>\n",
       "      <td>54.000000</td>\n",
       "      <td>98.000000</td>\n",
       "    </tr>\n",
       "  </tbody>\n",
       "</table>\n",
       "</div>"
      ],
      "text/plain": [
       "       NumberOfUpto90DaysLate  NumberOfDependents  NumberOfOpenCreditLines  \\\n",
       "count           150000.000000       146076.000000            150000.000000   \n",
       "mean                 0.421033            0.757222                 8.452760   \n",
       "std                  4.192781            1.115086                 5.145951   \n",
       "min                  0.000000            0.000000                 0.000000   \n",
       "25%                  0.000000            0.000000                 5.000000   \n",
       "50%                  0.000000            0.000000                 8.000000   \n",
       "75%                  0.000000            1.000000                11.000000   \n",
       "max                 98.000000           20.000000                58.000000   \n",
       "\n",
       "       NumberOfWaiverRequested  NumberSecuredLoansOrLines  \\\n",
       "count            150000.000000              150000.000000   \n",
       "mean                  0.265973                   1.018240   \n",
       "std                   4.169304                   1.129771   \n",
       "min                   0.000000                   0.000000   \n",
       "25%                   0.000000                   0.000000   \n",
       "50%                   0.000000                   1.000000   \n",
       "75%                   0.000000                   2.000000   \n",
       "max                  98.000000                  54.000000   \n",
       "\n",
       "       NumberOfCreditEnquiry  \n",
       "count          150000.000000  \n",
       "mean                0.240387  \n",
       "std                 4.155179  \n",
       "min                 0.000000  \n",
       "25%                 0.000000  \n",
       "50%                 0.000000  \n",
       "75%                 0.000000  \n",
       "max                98.000000  "
      ]
     },
     "execution_count": 20,
     "metadata": {},
     "output_type": "execute_result"
    }
   ],
   "source": [
    "df.loc[:,['NumberOfUpto90DaysLate','NumberOfDependents','NumberOfOpenCreditLines','NumberOfWaiverRequested','NumberSecuredLoansOrLines','NumberOfCreditEnquiry']].describe()"
   ]
  },
  {
   "cell_type": "code",
   "execution_count": 21,
   "id": "15cbf033",
   "metadata": {
    "execution": {
     "iopub.execute_input": "2023-01-19T23:43:20.466679Z",
     "iopub.status.busy": "2023-01-19T23:43:20.465703Z",
     "iopub.status.idle": "2023-01-19T23:43:20.491805Z",
     "shell.execute_reply": "2023-01-19T23:43:20.490601Z"
    },
    "papermill": {
     "duration": 0.047574,
     "end_time": "2023-01-19T23:43:20.494018",
     "exception": false,
     "start_time": "2023-01-19T23:43:20.446444",
     "status": "completed"
    },
    "tags": []
   },
   "outputs": [
    {
     "data": {
      "text/plain": [
       "NumberOfUpto90DaysLate       22.597108\n",
       "NumberOfDependents            1.588242\n",
       "NumberOfOpenCreditLines       1.215314\n",
       "NumberOfWaiverRequested      23.087345\n",
       "NumberSecuredLoansOrLines     3.482484\n",
       "NumberOfCreditEnquiry        23.331743\n",
       "dtype: float64"
      ]
     },
     "execution_count": 21,
     "metadata": {},
     "output_type": "execute_result"
    }
   ],
   "source": [
    "df.loc[:,['NumberOfUpto90DaysLate','NumberOfDependents','NumberOfOpenCreditLines','NumberOfWaiverRequested','NumberSecuredLoansOrLines','NumberOfCreditEnquiry']].skew()"
   ]
  },
  {
   "cell_type": "code",
   "execution_count": 22,
   "id": "dca07fa9",
   "metadata": {
    "execution": {
     "iopub.execute_input": "2023-01-19T23:43:20.532928Z",
     "iopub.status.busy": "2023-01-19T23:43:20.532280Z",
     "iopub.status.idle": "2023-01-19T23:43:20.564232Z",
     "shell.execute_reply": "2023-01-19T23:43:20.563321Z"
    },
    "papermill": {
     "duration": 0.054331,
     "end_time": "2023-01-19T23:43:20.566604",
     "exception": false,
     "start_time": "2023-01-19T23:43:20.512273",
     "status": "completed"
    },
    "tags": []
   },
   "outputs": [
    {
     "data": {
      "text/plain": [
       "NumberOfUpto90DaysLate       522.376545\n",
       "NumberOfDependents             3.001657\n",
       "NumberOfOpenCreditLines        3.091067\n",
       "NumberOfWaiverRequested      537.738945\n",
       "NumberSecuredLoansOrLines     60.476808\n",
       "NumberOfCreditEnquiry        545.682744\n",
       "dtype: float64"
      ]
     },
     "execution_count": 22,
     "metadata": {},
     "output_type": "execute_result"
    }
   ],
   "source": [
    "df.loc[:,['NumberOfUpto90DaysLate','NumberOfDependents','NumberOfOpenCreditLines','NumberOfWaiverRequested','NumberSecuredLoansOrLines','NumberOfCreditEnquiry']].kurt()"
   ]
  },
  {
   "cell_type": "code",
   "execution_count": 23,
   "id": "17cf65f0",
   "metadata": {
    "execution": {
     "iopub.execute_input": "2023-01-19T23:43:20.607286Z",
     "iopub.status.busy": "2023-01-19T23:43:20.606536Z",
     "iopub.status.idle": "2023-01-19T23:43:20.619616Z",
     "shell.execute_reply": "2023-01-19T23:43:20.618548Z"
    },
    "papermill": {
     "duration": 0.036111,
     "end_time": "2023-01-19T23:43:20.621900",
     "exception": false,
     "start_time": "2023-01-19T23:43:20.585789",
     "status": "completed"
    },
    "tags": []
   },
   "outputs": [
    {
     "data": {
      "text/plain": [
       "0.0     0.0\n",
       "0.1     0.0\n",
       "0.2     0.0\n",
       "0.3     0.0\n",
       "0.4     0.0\n",
       "0.5     0.0\n",
       "0.6     0.0\n",
       "0.7     0.0\n",
       "0.8     0.0\n",
       "0.9     1.0\n",
       "1.0    98.0\n",
       "Name: NumberOfUpto90DaysLate, dtype: float64"
      ]
     },
     "execution_count": 23,
     "metadata": {},
     "output_type": "execute_result"
    }
   ],
   "source": [
    "df['NumberOfUpto90DaysLate'].quantile(np.arange(0,1.1,0.1))"
   ]
  },
  {
   "cell_type": "code",
   "execution_count": null,
   "id": "0418f630",
   "metadata": {
    "papermill": {
     "duration": 0.018612,
     "end_time": "2023-01-19T23:43:20.659231",
     "exception": false,
     "start_time": "2023-01-19T23:43:20.640619",
     "status": "completed"
    },
    "tags": []
   },
   "outputs": [],
   "source": []
  },
  {
   "cell_type": "code",
   "execution_count": 24,
   "id": "e3cfe30a",
   "metadata": {
    "execution": {
     "iopub.execute_input": "2023-01-19T23:43:20.698723Z",
     "iopub.status.busy": "2023-01-19T23:43:20.697862Z",
     "iopub.status.idle": "2023-01-19T23:43:20.792911Z",
     "shell.execute_reply": "2023-01-19T23:43:20.791668Z"
    },
    "papermill": {
     "duration": 0.117619,
     "end_time": "2023-01-19T23:43:20.795209",
     "exception": false,
     "start_time": "2023-01-19T23:43:20.677590",
     "status": "completed"
    },
    "tags": []
   },
   "outputs": [
    {
     "data": {
      "text/plain": [
       "((120000, 11), (30000, 11))"
      ]
     },
     "execution_count": 24,
     "metadata": {},
     "output_type": "execute_result"
    }
   ],
   "source": [
    "# separate train and test sets\n",
    "X = df.drop(labels=['PaymentMissFlag'], axis=1)\n",
    "y = df['PaymentMissFlag']\n",
    "X_train, X_test, y_train, y_test = train_test_split(\n",
    "    X,\n",
    "    y,\n",
    "    test_size=0.2,\n",
    "    stratify=y,\n",
    "    random_state=0)\n",
    "\n",
    "X_train.shape, X_test.shape"
   ]
  },
  {
   "cell_type": "code",
   "execution_count": 25,
   "id": "5fa446cf",
   "metadata": {
    "execution": {
     "iopub.execute_input": "2023-01-19T23:43:20.834055Z",
     "iopub.status.busy": "2023-01-19T23:43:20.833645Z",
     "iopub.status.idle": "2023-01-19T23:43:20.853123Z",
     "shell.execute_reply": "2023-01-19T23:43:20.851989Z"
    },
    "papermill": {
     "duration": 0.041481,
     "end_time": "2023-01-19T23:43:20.855358",
     "exception": false,
     "start_time": "2023-01-19T23:43:20.813877",
     "status": "completed"
    },
    "tags": []
   },
   "outputs": [
    {
     "data": {
      "text/plain": [
       "(AverageUtilization               0\n",
       " Age                              0\n",
       " NumberOfUpto90DaysLate           0\n",
       " NumberOfDependents            3184\n",
       " status                          64\n",
       " RevolvingRatio                   0\n",
       " MonthlyIncome                23727\n",
       " NumberOfOpenCreditLines          0\n",
       " NumberOfWaiverRequested          0\n",
       " NumberSecuredLoansOrLines        0\n",
       " NumberOfCreditEnquiry            0\n",
       " dtype: int64,\n",
       " AverageUtilization              0\n",
       " Age                             0\n",
       " NumberOfUpto90DaysLate          0\n",
       " NumberOfDependents            740\n",
       " status                         18\n",
       " RevolvingRatio                  0\n",
       " MonthlyIncome                6004\n",
       " NumberOfOpenCreditLines         0\n",
       " NumberOfWaiverRequested         0\n",
       " NumberSecuredLoansOrLines       0\n",
       " NumberOfCreditEnquiry           0\n",
       " dtype: int64)"
      ]
     },
     "execution_count": 25,
     "metadata": {},
     "output_type": "execute_result"
    }
   ],
   "source": [
    "X_train.isna().sum() , X_test.isna().sum()"
   ]
  },
  {
   "cell_type": "code",
   "execution_count": null,
   "id": "d097745b",
   "metadata": {
    "papermill": {
     "duration": 0.019205,
     "end_time": "2023-01-19T23:43:20.893368",
     "exception": false,
     "start_time": "2023-01-19T23:43:20.874163",
     "status": "completed"
    },
    "tags": []
   },
   "outputs": [],
   "source": []
  },
  {
   "cell_type": "code",
   "execution_count": 26,
   "id": "b33aea31",
   "metadata": {
    "execution": {
     "iopub.execute_input": "2023-01-19T23:43:20.934112Z",
     "iopub.status.busy": "2023-01-19T23:43:20.933698Z",
     "iopub.status.idle": "2023-01-19T23:43:20.948412Z",
     "shell.execute_reply": "2023-01-19T23:43:20.947548Z"
    },
    "papermill": {
     "duration": 0.037774,
     "end_time": "2023-01-19T23:43:20.950637",
     "exception": false,
     "start_time": "2023-01-19T23:43:20.912863",
     "status": "completed"
    },
    "tags": []
   },
   "outputs": [
    {
     "data": {
      "text/plain": [
       "0.00     0.0\n",
       "0.01     0.0\n",
       "0.02     0.0\n",
       "0.03     0.0\n",
       "0.04     0.0\n",
       "        ... \n",
       "0.96     2.0\n",
       "0.97     2.0\n",
       "0.98     3.0\n",
       "0.99     4.0\n",
       "1.00    98.0\n",
       "Name: NumberOfUpto90DaysLate, Length: 101, dtype: float64"
      ]
     },
     "execution_count": 26,
     "metadata": {},
     "output_type": "execute_result"
    }
   ],
   "source": [
    "X_train['NumberOfUpto90DaysLate'].quantile(np.arange(0,1.01,0.01))"
   ]
  },
  {
   "cell_type": "code",
   "execution_count": 27,
   "id": "0cee11c3",
   "metadata": {
    "execution": {
     "iopub.execute_input": "2023-01-19T23:43:20.990563Z",
     "iopub.status.busy": "2023-01-19T23:43:20.989913Z",
     "iopub.status.idle": "2023-01-19T23:43:21.075486Z",
     "shell.execute_reply": "2023-01-19T23:43:21.074610Z"
    },
    "papermill": {
     "duration": 0.107931,
     "end_time": "2023-01-19T23:43:21.077595",
     "exception": false,
     "start_time": "2023-01-19T23:43:20.969664",
     "status": "completed"
    },
    "tags": []
   },
   "outputs": [
    {
     "data": {
      "text/html": [
       "<div>\n",
       "<style scoped>\n",
       "    .dataframe tbody tr th:only-of-type {\n",
       "        vertical-align: middle;\n",
       "    }\n",
       "\n",
       "    .dataframe tbody tr th {\n",
       "        vertical-align: top;\n",
       "    }\n",
       "\n",
       "    .dataframe thead th {\n",
       "        text-align: right;\n",
       "    }\n",
       "</style>\n",
       "<table border=\"1\" class=\"dataframe\">\n",
       "  <thead>\n",
       "    <tr style=\"text-align: right;\">\n",
       "      <th></th>\n",
       "      <th>AverageUtilization</th>\n",
       "      <th>Age</th>\n",
       "      <th>NumberOfUpto90DaysLate</th>\n",
       "      <th>NumberOfDependents</th>\n",
       "      <th>RevolvingRatio</th>\n",
       "      <th>MonthlyIncome</th>\n",
       "      <th>NumberOfOpenCreditLines</th>\n",
       "      <th>NumberOfWaiverRequested</th>\n",
       "      <th>NumberSecuredLoansOrLines</th>\n",
       "      <th>NumberOfCreditEnquiry</th>\n",
       "    </tr>\n",
       "  </thead>\n",
       "  <tbody>\n",
       "    <tr>\n",
       "      <th>count</th>\n",
       "      <td>120000.000000</td>\n",
       "      <td>120000.000000</td>\n",
       "      <td>120000.000000</td>\n",
       "      <td>116816.000000</td>\n",
       "      <td>120000.000000</td>\n",
       "      <td>9.627300e+04</td>\n",
       "      <td>120000.000000</td>\n",
       "      <td>120000.000000</td>\n",
       "      <td>120000.000000</td>\n",
       "      <td>120000.000000</td>\n",
       "    </tr>\n",
       "    <tr>\n",
       "      <th>mean</th>\n",
       "      <td>6.212427</td>\n",
       "      <td>52.273025</td>\n",
       "      <td>0.424783</td>\n",
       "      <td>0.758509</td>\n",
       "      <td>350.132215</td>\n",
       "      <td>6.673464e+03</td>\n",
       "      <td>8.456075</td>\n",
       "      <td>0.269925</td>\n",
       "      <td>1.019558</td>\n",
       "      <td>0.244708</td>\n",
       "    </tr>\n",
       "    <tr>\n",
       "      <th>std</th>\n",
       "      <td>261.051477</td>\n",
       "      <td>14.777504</td>\n",
       "      <td>4.246586</td>\n",
       "      <td>1.116382</td>\n",
       "      <td>1931.344464</td>\n",
       "      <td>1.456017e+04</td>\n",
       "      <td>5.160313</td>\n",
       "      <td>4.223452</td>\n",
       "      <td>1.136597</td>\n",
       "      <td>4.209900</td>\n",
       "    </tr>\n",
       "    <tr>\n",
       "      <th>min</th>\n",
       "      <td>0.000000</td>\n",
       "      <td>0.000000</td>\n",
       "      <td>0.000000</td>\n",
       "      <td>0.000000</td>\n",
       "      <td>0.000000</td>\n",
       "      <td>0.000000e+00</td>\n",
       "      <td>0.000000</td>\n",
       "      <td>0.000000</td>\n",
       "      <td>0.000000</td>\n",
       "      <td>0.000000</td>\n",
       "    </tr>\n",
       "    <tr>\n",
       "      <th>25%</th>\n",
       "      <td>0.029700</td>\n",
       "      <td>41.000000</td>\n",
       "      <td>0.000000</td>\n",
       "      <td>0.000000</td>\n",
       "      <td>0.175400</td>\n",
       "      <td>3.400000e+03</td>\n",
       "      <td>5.000000</td>\n",
       "      <td>0.000000</td>\n",
       "      <td>0.000000</td>\n",
       "      <td>0.000000</td>\n",
       "    </tr>\n",
       "    <tr>\n",
       "      <th>50%</th>\n",
       "      <td>0.153800</td>\n",
       "      <td>52.000000</td>\n",
       "      <td>0.000000</td>\n",
       "      <td>0.000000</td>\n",
       "      <td>0.366200</td>\n",
       "      <td>5.400000e+03</td>\n",
       "      <td>8.000000</td>\n",
       "      <td>0.000000</td>\n",
       "      <td>1.000000</td>\n",
       "      <td>0.000000</td>\n",
       "    </tr>\n",
       "    <tr>\n",
       "      <th>75%</th>\n",
       "      <td>0.556700</td>\n",
       "      <td>63.000000</td>\n",
       "      <td>0.000000</td>\n",
       "      <td>1.000000</td>\n",
       "      <td>0.863325</td>\n",
       "      <td>8.233000e+03</td>\n",
       "      <td>11.000000</td>\n",
       "      <td>0.000000</td>\n",
       "      <td>2.000000</td>\n",
       "      <td>0.000000</td>\n",
       "    </tr>\n",
       "    <tr>\n",
       "      <th>max</th>\n",
       "      <td>50708.000000</td>\n",
       "      <td>109.000000</td>\n",
       "      <td>98.000000</td>\n",
       "      <td>20.000000</td>\n",
       "      <td>326442.000000</td>\n",
       "      <td>3.008750e+06</td>\n",
       "      <td>58.000000</td>\n",
       "      <td>98.000000</td>\n",
       "      <td>54.000000</td>\n",
       "      <td>98.000000</td>\n",
       "    </tr>\n",
       "  </tbody>\n",
       "</table>\n",
       "</div>"
      ],
      "text/plain": [
       "       AverageUtilization            Age  NumberOfUpto90DaysLate  \\\n",
       "count       120000.000000  120000.000000           120000.000000   \n",
       "mean             6.212427      52.273025                0.424783   \n",
       "std            261.051477      14.777504                4.246586   \n",
       "min              0.000000       0.000000                0.000000   \n",
       "25%              0.029700      41.000000                0.000000   \n",
       "50%              0.153800      52.000000                0.000000   \n",
       "75%              0.556700      63.000000                0.000000   \n",
       "max          50708.000000     109.000000               98.000000   \n",
       "\n",
       "       NumberOfDependents  RevolvingRatio  MonthlyIncome  \\\n",
       "count       116816.000000   120000.000000   9.627300e+04   \n",
       "mean             0.758509      350.132215   6.673464e+03   \n",
       "std              1.116382     1931.344464   1.456017e+04   \n",
       "min              0.000000        0.000000   0.000000e+00   \n",
       "25%              0.000000        0.175400   3.400000e+03   \n",
       "50%              0.000000        0.366200   5.400000e+03   \n",
       "75%              1.000000        0.863325   8.233000e+03   \n",
       "max             20.000000   326442.000000   3.008750e+06   \n",
       "\n",
       "       NumberOfOpenCreditLines  NumberOfWaiverRequested  \\\n",
       "count            120000.000000            120000.000000   \n",
       "mean                  8.456075                 0.269925   \n",
       "std                   5.160313                 4.223452   \n",
       "min                   0.000000                 0.000000   \n",
       "25%                   5.000000                 0.000000   \n",
       "50%                   8.000000                 0.000000   \n",
       "75%                  11.000000                 0.000000   \n",
       "max                  58.000000                98.000000   \n",
       "\n",
       "       NumberSecuredLoansOrLines  NumberOfCreditEnquiry  \n",
       "count              120000.000000          120000.000000  \n",
       "mean                    1.019558               0.244708  \n",
       "std                     1.136597               4.209900  \n",
       "min                     0.000000               0.000000  \n",
       "25%                     0.000000               0.000000  \n",
       "50%                     1.000000               0.000000  \n",
       "75%                     2.000000               0.000000  \n",
       "max                    54.000000              98.000000  "
      ]
     },
     "execution_count": 27,
     "metadata": {},
     "output_type": "execute_result"
    }
   ],
   "source": [
    "X_train.describe()"
   ]
  },
  {
   "cell_type": "code",
   "execution_count": null,
   "id": "e4d756b6",
   "metadata": {
    "papermill": {
     "duration": 0.018733,
     "end_time": "2023-01-19T23:43:21.115407",
     "exception": false,
     "start_time": "2023-01-19T23:43:21.096674",
     "status": "completed"
    },
    "tags": []
   },
   "outputs": [],
   "source": []
  },
  {
   "cell_type": "code",
   "execution_count": null,
   "id": "7bb3ff9d",
   "metadata": {
    "papermill": {
     "duration": 0.020518,
     "end_time": "2023-01-19T23:43:21.154919",
     "exception": false,
     "start_time": "2023-01-19T23:43:21.134401",
     "status": "completed"
    },
    "tags": []
   },
   "outputs": [],
   "source": []
  },
  {
   "cell_type": "code",
   "execution_count": 28,
   "id": "b07aad87",
   "metadata": {
    "execution": {
     "iopub.execute_input": "2023-01-19T23:43:21.195029Z",
     "iopub.status.busy": "2023-01-19T23:43:21.194434Z",
     "iopub.status.idle": "2023-01-19T23:43:23.436557Z",
     "shell.execute_reply": "2023-01-19T23:43:23.435513Z"
    },
    "papermill": {
     "duration": 2.265042,
     "end_time": "2023-01-19T23:43:23.438986",
     "exception": false,
     "start_time": "2023-01-19T23:43:21.173944",
     "status": "completed"
    },
    "tags": []
   },
   "outputs": [
    {
     "data": {
      "image/png": "[encoded data removed]",
      "text/plain": [
       "<Figure size 432x288 with 1 Axes>"
      ]
     },
     "metadata": {
      "needs_background": "light"
     },
     "output_type": "display_data"
    },
    {
     "data": {
      "image/png": "[encoded data removed]",
      "text/plain": [
       "<Figure size 432x288 with 1 Axes>"
      ]
     },
     "metadata": {
      "needs_background": "light"
     },
     "output_type": "display_data"
    },
    {
     "data": {
      "image/png": "[encoded data removed]",
      "text/plain": [
       "<Figure size 432x288 with 1 Axes>"
      ]
     },
     "metadata": {
      "needs_background": "light"
     },
     "output_type": "display_data"
    },
    {
     "data": {
      "image/png": "[encoded data removed]",
      "text/plain": [
       "<Figure size 432x288 with 1 Axes>"
      ]
     },
     "metadata": {
      "needs_background": "light"
     },
     "output_type": "display_data"
    },
    {
     "data": {
      "image/png": "[encoded data removed]",
      "text/plain": [
       "<Figure size 432x288 with 1 Axes>"
      ]
     },
     "metadata": {
      "needs_background": "light"
     },
     "output_type": "display_data"
    },
    {
     "data": {
      "image/png": "[encoded data removed]",
      "text/plain": [
       "<Figure size 432x288 with 1 Axes>"
      ]
     },
     "metadata": {
      "needs_background": "light"
     },
     "output_type": "display_data"
    }
   ],
   "source": [
    "# Let's look at the different number of labels\n",
    "# in each variable (cardinality).\n",
    "\n",
    "# These are the categorical variables.\n",
    "cols = ['NumberOfUpto90DaysLate','NumberOfDependents','NumberOfOpenCreditLines',\n",
    "        'NumberOfWaiverRequested','NumberSecuredLoansOrLines','NumberOfCreditEnquiry']\n",
    "\n",
    "\n",
    "total_data = len(X_train)\n",
    "\n",
    "# For each categorical variable\n",
    "for col in cols:\n",
    "\n",
    "    # Count the number of houses per category\n",
    "    # and divide by total houses.\n",
    "\n",
    "    # That is, the percentage of houses per category.\n",
    "\n",
    "    temp_df = pd.Series(X_train[col].value_counts() / total_data)\n",
    "\n",
    "    # Make plot with these percentages.\n",
    "    fig = temp_df.sort_values(ascending=False).plot.bar()\n",
    "    fig.set_xlabel(col)\n",
    "\n",
    "    # Add a line at 5 % to flag the threshold for rare categories.\n",
    "    fig.axhline(y=0.05, color='red')\n",
    "    fig.set_ylabel('Percentage of houses')\n",
    "    plt.show()"
   ]
  },
  {
   "cell_type": "code",
   "execution_count": 29,
   "id": "2314d4b0",
   "metadata": {
    "execution": {
     "iopub.execute_input": "2023-01-19T23:43:23.482073Z",
     "iopub.status.busy": "2023-01-19T23:43:23.481653Z",
     "iopub.status.idle": "2023-01-19T23:43:26.030413Z",
     "shell.execute_reply": "2023-01-19T23:43:26.029225Z"
    },
    "papermill": {
     "duration": 2.573961,
     "end_time": "2023-01-19T23:43:26.033669",
     "exception": false,
     "start_time": "2023-01-19T23:43:23.459708",
     "status": "completed"
    },
    "tags": []
   },
   "outputs": [
    {
     "data": {
      "image/png": "[encoded data removed]",
      "text/plain": [
       "<Figure size 1152x432 with 2 Axes>"
      ]
     },
     "metadata": {
      "needs_background": "light"
     },
     "output_type": "display_data"
    }
   ],
   "source": [
    "plt.figure(figsize=(16, 6))\n",
    "heatmap = sns.heatmap(X_train.corr(), vmin=-1, vmax=1, annot=True, cmap='BrBG')\n",
    "heatmap.set_title('Correlation Heatmap', fontdict={'fontsize':18}, pad=12);\n",
    "# save heatmap as .png file\n",
    "# dpi - sets the resolution of the saved image in dots/inches\n",
    "# bbox_inches - when set to 'tight' - does not allow the labels to be cropped\n",
    "plt.savefig('heatmap.png', dpi=300, bbox_inches='tight')"
   ]
  },
  {
   "cell_type": "code",
   "execution_count": 30,
   "id": "e513d9ed",
   "metadata": {
    "execution": {
     "iopub.execute_input": "2023-01-19T23:43:26.082620Z",
     "iopub.status.busy": "2023-01-19T23:43:26.081945Z",
     "iopub.status.idle": "2023-01-19T23:43:26.101118Z",
     "shell.execute_reply": "2023-01-19T23:43:26.100303Z"
    },
    "papermill": {
     "duration": 0.045722,
     "end_time": "2023-01-19T23:43:26.103472",
     "exception": false,
     "start_time": "2023-01-19T23:43:26.057750",
     "status": "completed"
    },
    "tags": []
   },
   "outputs": [],
   "source": [
    "X_train.drop('NumberOfUpto90DaysLate', axis=1, inplace=True)\n",
    "X_train.drop('NumberOfWaiverRequested', axis=1, inplace=True)\n",
    "\n",
    "X_test.drop('NumberOfUpto90DaysLate', axis=1, inplace=True)\n",
    "X_test.drop('NumberOfWaiverRequested', axis=1, inplace=True)"
   ]
  },
  {
   "cell_type": "markdown",
   "id": "fdca3b73",
   "metadata": {
    "papermill": {
     "duration": 0.021914,
     "end_time": "2023-01-19T23:43:26.147644",
     "exception": false,
     "start_time": "2023-01-19T23:43:26.125730",
     "status": "completed"
    },
    "tags": []
   },
   "source": [
    "# Dealing with Missinfd Value "
   ]
  },
  {
   "cell_type": "markdown",
   "id": "0cbcd136",
   "metadata": {
    "papermill": {
     "duration": 0.021732,
     "end_time": "2023-01-19T23:43:26.191625",
     "exception": false,
     "start_time": "2023-01-19T23:43:26.169893",
     "status": "completed"
    },
    "tags": []
   },
   "source": []
  },
  {
   "cell_type": "code",
   "execution_count": 31,
   "id": "9177c927",
   "metadata": {
    "execution": {
     "iopub.execute_input": "2023-01-19T23:43:26.237769Z",
     "iopub.status.busy": "2023-01-19T23:43:26.237087Z",
     "iopub.status.idle": "2023-01-19T23:43:26.254089Z",
     "shell.execute_reply": "2023-01-19T23:43:26.252977Z"
    },
    "papermill": {
     "duration": 0.04291,
     "end_time": "2023-01-19T23:43:26.256280",
     "exception": false,
     "start_time": "2023-01-19T23:43:26.213370",
     "status": "completed"
    },
    "tags": []
   },
   "outputs": [
    {
     "data": {
      "text/plain": [
       "VERYRICH      0.143493\n",
       "POOR          0.143218\n",
       "VERYMIDDLE    0.143135\n",
       "RICH          0.142993\n",
       "LOWMIDDLE     0.142860\n",
       "VERYPOOR      0.142167\n",
       "MIDDLE        0.142134\n",
       "Name: status, dtype: float64"
      ]
     },
     "execution_count": 31,
     "metadata": {},
     "output_type": "execute_result"
    }
   ],
   "source": [
    "X_train['status'].value_counts(normalize=True)"
   ]
  },
  {
   "cell_type": "code",
   "execution_count": 32,
   "id": "a42ba737",
   "metadata": {
    "execution": {
     "iopub.execute_input": "2023-01-19T23:43:26.302771Z",
     "iopub.status.busy": "2023-01-19T23:43:26.302099Z",
     "iopub.status.idle": "2023-01-19T23:43:26.640693Z",
     "shell.execute_reply": "2023-01-19T23:43:26.639525Z"
    },
    "papermill": {
     "duration": 0.364521,
     "end_time": "2023-01-19T23:43:26.643184",
     "exception": false,
     "start_time": "2023-01-19T23:43:26.278663",
     "status": "completed"
    },
    "tags": []
   },
   "outputs": [
    {
     "data": {
      "image/png": "[encoded data removed]",
      "text/plain": [
       "<Figure size 432x288 with 1 Axes>"
      ]
     },
     "metadata": {
      "needs_background": "light"
     },
     "output_type": "display_data"
    }
   ],
   "source": [
    "# Monthly income distribution for by status\n",
    "sns.boxplot(x='status', y='MonthlyIncome', data=X_train)\n",
    "plt.ylim(0,3008750.0)\n",
    "plt.ylim(0,17500)\n",
    "plt.show()"
   ]
  },
  {
   "cell_type": "code",
   "execution_count": 33,
   "id": "6d4d85b6",
   "metadata": {
    "execution": {
     "iopub.execute_input": "2023-01-19T23:43:26.689961Z",
     "iopub.status.busy": "2023-01-19T23:43:26.689573Z",
     "iopub.status.idle": "2023-01-19T23:43:26.696140Z",
     "shell.execute_reply": "2023-01-19T23:43:26.695367Z"
    },
    "papermill": {
     "duration": 0.032196,
     "end_time": "2023-01-19T23:43:26.698097",
     "exception": false,
     "start_time": "2023-01-19T23:43:26.665901",
     "status": "completed"
    },
    "tags": []
   },
   "outputs": [
    {
     "data": {
      "text/plain": [
       "Index(['AverageUtilization', 'Age', 'NumberOfDependents', 'status',\n",
       "       'RevolvingRatio', 'MonthlyIncome', 'NumberOfOpenCreditLines',\n",
       "       'NumberSecuredLoansOrLines', 'NumberOfCreditEnquiry'],\n",
       "      dtype='object')"
      ]
     },
     "execution_count": 33,
     "metadata": {},
     "output_type": "execute_result"
    }
   ],
   "source": [
    "X_train.columns"
   ]
  },
  {
   "cell_type": "code",
   "execution_count": 34,
   "id": "b11c4406",
   "metadata": {
    "execution": {
     "iopub.execute_input": "2023-01-19T23:43:26.745626Z",
     "iopub.status.busy": "2023-01-19T23:43:26.745180Z",
     "iopub.status.idle": "2023-01-19T23:43:26.760969Z",
     "shell.execute_reply": "2023-01-19T23:43:26.759193Z"
    },
    "papermill": {
     "duration": 0.042605,
     "end_time": "2023-01-19T23:43:26.763806",
     "exception": false,
     "start_time": "2023-01-19T23:43:26.721201",
     "status": "completed"
    },
    "tags": []
   },
   "outputs": [
    {
     "name": "stdout",
     "output_type": "stream",
     "text": [
      "% of data with NumberOfDependents being missing is 2.65%\n",
      "% of data with status being missing is 0.05%\n",
      "% of data with MonthlyIncome being missing is 19.77%\n"
     ]
    }
   ],
   "source": [
    "# % of missing data \n",
    "de_percentage = round(100 * X_train['NumberOfDependents'].isna().sum() / X_train.shape[0],2)\n",
    "\n",
    "print( '% of data with NumberOfDependents being missing is {}%'.format(de_percentage) )\n",
    "\n",
    "sta_percentage = round(100 * X_train['status'].isna().sum() / X_train.shape[0],2)\n",
    "\n",
    "print( '% of data with status being missing is {}%'.format(sta_percentage) )\n",
    "\n",
    "income_percentage = round(100 * X_train['MonthlyIncome'].isna().sum() / X_train.shape[0],2)\n",
    "\n",
    "print( '% of data with MonthlyIncome being missing is {}%'.format(income_percentage) )"
   ]
  },
  {
   "cell_type": "code",
   "execution_count": 35,
   "id": "284249cc",
   "metadata": {
    "execution": {
     "iopub.execute_input": "2023-01-19T23:43:26.812848Z",
     "iopub.status.busy": "2023-01-19T23:43:26.812216Z",
     "iopub.status.idle": "2023-01-19T23:43:26.836284Z",
     "shell.execute_reply": "2023-01-19T23:43:26.835108Z"
    },
    "papermill": {
     "duration": 0.051321,
     "end_time": "2023-01-19T23:43:26.838887",
     "exception": false,
     "start_time": "2023-01-19T23:43:26.787566",
     "status": "completed"
    },
    "tags": []
   },
   "outputs": [
    {
     "data": {
      "text/html": [
       "<div>\n",
       "<style scoped>\n",
       "    .dataframe tbody tr th:only-of-type {\n",
       "        vertical-align: middle;\n",
       "    }\n",
       "\n",
       "    .dataframe tbody tr th {\n",
       "        vertical-align: top;\n",
       "    }\n",
       "\n",
       "    .dataframe thead th {\n",
       "        text-align: right;\n",
       "    }\n",
       "</style>\n",
       "<table border=\"1\" class=\"dataframe\">\n",
       "  <thead>\n",
       "    <tr style=\"text-align: right;\">\n",
       "      <th></th>\n",
       "      <th>NumberOfDependents</th>\n",
       "      <th>status</th>\n",
       "    </tr>\n",
       "  </thead>\n",
       "  <tbody>\n",
       "    <tr>\n",
       "      <th>0</th>\n",
       "      <td>0.0</td>\n",
       "      <td>VERYRICH</td>\n",
       "    </tr>\n",
       "  </tbody>\n",
       "</table>\n",
       "</div>"
      ],
      "text/plain": [
       "   NumberOfDependents    status\n",
       "0                 0.0  VERYRICH"
      ]
     },
     "execution_count": 35,
     "metadata": {},
     "output_type": "execute_result"
    }
   ],
   "source": [
    "# get th mode for missing data imputation \n",
    "X_train[['NumberOfDependents','status']].mode()"
   ]
  },
  {
   "cell_type": "code",
   "execution_count": 36,
   "id": "6789f1e9",
   "metadata": {
    "execution": {
     "iopub.execute_input": "2023-01-19T23:43:26.886509Z",
     "iopub.status.busy": "2023-01-19T23:43:26.885880Z",
     "iopub.status.idle": "2023-01-19T23:43:26.908563Z",
     "shell.execute_reply": "2023-01-19T23:43:26.907501Z"
    },
    "papermill": {
     "duration": 0.049226,
     "end_time": "2023-01-19T23:43:26.910948",
     "exception": false,
     "start_time": "2023-01-19T23:43:26.861722",
     "status": "completed"
    },
    "tags": []
   },
   "outputs": [
    {
     "data": {
      "text/plain": [
       "{'NumberOfDependents': 0.0, 'status': 'VERYRICH'}"
      ]
     },
     "execution_count": 36,
     "metadata": {},
     "output_type": "execute_result"
    }
   ],
   "source": [
    "# Capture the mode of the variables in\n",
    "# a dictionary\n",
    "\n",
    "imputation_dict = X_train[['NumberOfDependents','status']].mode().iloc[0].to_dict()\n",
    "\n",
    "imputation_dict"
   ]
  },
  {
   "cell_type": "code",
   "execution_count": 37,
   "id": "1efc2776",
   "metadata": {
    "execution": {
     "iopub.execute_input": "2023-01-19T23:43:26.959536Z",
     "iopub.status.busy": "2023-01-19T23:43:26.958739Z",
     "iopub.status.idle": "2023-01-19T23:43:26.974170Z",
     "shell.execute_reply": "2023-01-19T23:43:26.973303Z"
    },
    "papermill": {
     "duration": 0.042255,
     "end_time": "2023-01-19T23:43:26.976697",
     "exception": false,
     "start_time": "2023-01-19T23:43:26.934442",
     "status": "completed"
    },
    "tags": []
   },
   "outputs": [],
   "source": [
    "# Replace missing data\n",
    "\n",
    "X_train.fillna(imputation_dict, inplace=True)\n",
    "X_test.fillna(imputation_dict, inplace=True)"
   ]
  },
  {
   "cell_type": "markdown",
   "id": "ea65e5ce",
   "metadata": {
    "papermill": {
     "duration": 0.022678,
     "end_time": "2023-01-19T23:43:27.022417",
     "exception": false,
     "start_time": "2023-01-19T23:43:26.999739",
     "status": "completed"
    },
    "tags": []
   },
   "source": []
  },
  {
   "cell_type": "code",
   "execution_count": 38,
   "id": "f7d787ef",
   "metadata": {
    "execution": {
     "iopub.execute_input": "2023-01-19T23:43:27.070597Z",
     "iopub.status.busy": "2023-01-19T23:43:27.069794Z",
     "iopub.status.idle": "2023-01-19T23:43:27.080189Z",
     "shell.execute_reply": "2023-01-19T23:43:27.079405Z"
    },
    "papermill": {
     "duration": 0.037185,
     "end_time": "2023-01-19T23:43:27.082615",
     "exception": false,
     "start_time": "2023-01-19T23:43:27.045430",
     "status": "completed"
    },
    "tags": []
   },
   "outputs": [],
   "source": [
    "# Impute MonthlyIncome column\n",
    "Median = X_train['MonthlyIncome'].median()\n",
    "Median\n",
    "X_train['MonthlyIncome'].fillna(Median, inplace=True)\n",
    "X_test['MonthlyIncome'].fillna(Median, inplace=True)"
   ]
  },
  {
   "cell_type": "markdown",
   "id": "5b9f6a0b",
   "metadata": {
    "papermill": {
     "duration": 0.023006,
     "end_time": "2023-01-19T23:43:27.128731",
     "exception": false,
     "start_time": "2023-01-19T23:43:27.105725",
     "status": "completed"
    },
    "tags": []
   },
   "source": []
  },
  {
   "cell_type": "code",
   "execution_count": 39,
   "id": "3bb2105d",
   "metadata": {
    "execution": {
     "iopub.execute_input": "2023-01-19T23:43:27.177517Z",
     "iopub.status.busy": "2023-01-19T23:43:27.176722Z",
     "iopub.status.idle": "2023-01-19T23:43:27.205355Z",
     "shell.execute_reply": "2023-01-19T23:43:27.204315Z"
    },
    "papermill": {
     "duration": 0.055326,
     "end_time": "2023-01-19T23:43:27.207656",
     "exception": false,
     "start_time": "2023-01-19T23:43:27.152330",
     "status": "completed"
    },
    "tags": []
   },
   "outputs": [
    {
     "data": {
      "text/html": [
       "<div>\n",
       "<style scoped>\n",
       "    .dataframe tbody tr th:only-of-type {\n",
       "        vertical-align: middle;\n",
       "    }\n",
       "\n",
       "    .dataframe tbody tr th {\n",
       "        vertical-align: top;\n",
       "    }\n",
       "\n",
       "    .dataframe thead th {\n",
       "        text-align: right;\n",
       "    }\n",
       "</style>\n",
       "<table border=\"1\" class=\"dataframe\">\n",
       "  <thead>\n",
       "    <tr style=\"text-align: right;\">\n",
       "      <th></th>\n",
       "      <th>LOWMIDDLE</th>\n",
       "      <th>MIDDLE</th>\n",
       "      <th>POOR</th>\n",
       "      <th>RICH</th>\n",
       "      <th>VERYMIDDLE</th>\n",
       "      <th>VERYPOOR</th>\n",
       "      <th>VERYRICH</th>\n",
       "    </tr>\n",
       "  </thead>\n",
       "  <tbody>\n",
       "    <tr>\n",
       "      <th>77522</th>\n",
       "      <td>0</td>\n",
       "      <td>0</td>\n",
       "      <td>0</td>\n",
       "      <td>0</td>\n",
       "      <td>0</td>\n",
       "      <td>0</td>\n",
       "      <td>1</td>\n",
       "    </tr>\n",
       "    <tr>\n",
       "      <th>49457</th>\n",
       "      <td>0</td>\n",
       "      <td>1</td>\n",
       "      <td>0</td>\n",
       "      <td>0</td>\n",
       "      <td>0</td>\n",
       "      <td>0</td>\n",
       "      <td>0</td>\n",
       "    </tr>\n",
       "    <tr>\n",
       "      <th>114702</th>\n",
       "      <td>0</td>\n",
       "      <td>0</td>\n",
       "      <td>0</td>\n",
       "      <td>1</td>\n",
       "      <td>0</td>\n",
       "      <td>0</td>\n",
       "      <td>0</td>\n",
       "    </tr>\n",
       "    <tr>\n",
       "      <th>126322</th>\n",
       "      <td>0</td>\n",
       "      <td>0</td>\n",
       "      <td>0</td>\n",
       "      <td>1</td>\n",
       "      <td>0</td>\n",
       "      <td>0</td>\n",
       "      <td>0</td>\n",
       "    </tr>\n",
       "    <tr>\n",
       "      <th>69315</th>\n",
       "      <td>0</td>\n",
       "      <td>0</td>\n",
       "      <td>1</td>\n",
       "      <td>0</td>\n",
       "      <td>0</td>\n",
       "      <td>0</td>\n",
       "      <td>0</td>\n",
       "    </tr>\n",
       "  </tbody>\n",
       "</table>\n",
       "</div>"
      ],
      "text/plain": [
       "        LOWMIDDLE  MIDDLE  POOR  RICH  VERYMIDDLE  VERYPOOR  VERYRICH\n",
       "77522           0       0     0     0           0         0         1\n",
       "49457           0       1     0     0           0         0         0\n",
       "114702          0       0     0     1           0         0         0\n",
       "126322          0       0     0     1           0         0         0\n",
       "69315           0       0     1     0           0         0         0"
      ]
     },
     "execution_count": 39,
     "metadata": {},
     "output_type": "execute_result"
    }
   ],
   "source": [
    "status_enc = pd.get_dummies(X_train['status'])\n",
    "status_enc.head()"
   ]
  },
  {
   "cell_type": "code",
   "execution_count": 40,
   "id": "ab2c6a33",
   "metadata": {
    "execution": {
     "iopub.execute_input": "2023-01-19T23:43:27.256095Z",
     "iopub.status.busy": "2023-01-19T23:43:27.255710Z",
     "iopub.status.idle": "2023-01-19T23:43:27.267765Z",
     "shell.execute_reply": "2023-01-19T23:43:27.266773Z"
    },
    "papermill": {
     "duration": 0.039273,
     "end_time": "2023-01-19T23:43:27.270077",
     "exception": false,
     "start_time": "2023-01-19T23:43:27.230804",
     "status": "completed"
    },
    "tags": []
   },
   "outputs": [],
   "source": [
    "X_train = pd.concat([X_train, status_enc], axis=1).head()"
   ]
  },
  {
   "cell_type": "code",
   "execution_count": 41,
   "id": "8523005d",
   "metadata": {
    "execution": {
     "iopub.execute_input": "2023-01-19T23:43:27.318942Z",
     "iopub.status.busy": "2023-01-19T23:43:27.318524Z",
     "iopub.status.idle": "2023-01-19T23:43:27.337485Z",
     "shell.execute_reply": "2023-01-19T23:43:27.336490Z"
    },
    "papermill": {
     "duration": 0.045983,
     "end_time": "2023-01-19T23:43:27.339659",
     "exception": false,
     "start_time": "2023-01-19T23:43:27.293676",
     "status": "completed"
    },
    "tags": []
   },
   "outputs": [
    {
     "data": {
      "text/html": [
       "<div>\n",
       "<style scoped>\n",
       "    .dataframe tbody tr th:only-of-type {\n",
       "        vertical-align: middle;\n",
       "    }\n",
       "\n",
       "    .dataframe tbody tr th {\n",
       "        vertical-align: top;\n",
       "    }\n",
       "\n",
       "    .dataframe thead th {\n",
       "        text-align: right;\n",
       "    }\n",
       "</style>\n",
       "<table border=\"1\" class=\"dataframe\">\n",
       "  <thead>\n",
       "    <tr style=\"text-align: right;\">\n",
       "      <th></th>\n",
       "      <th>AverageUtilization</th>\n",
       "      <th>Age</th>\n",
       "      <th>NumberOfDependents</th>\n",
       "      <th>RevolvingRatio</th>\n",
       "      <th>MonthlyIncome</th>\n",
       "      <th>NumberOfOpenCreditLines</th>\n",
       "      <th>NumberSecuredLoansOrLines</th>\n",
       "      <th>NumberOfCreditEnquiry</th>\n",
       "      <th>LOWMIDDLE</th>\n",
       "      <th>MIDDLE</th>\n",
       "      <th>POOR</th>\n",
       "      <th>RICH</th>\n",
       "      <th>VERYMIDDLE</th>\n",
       "      <th>VERYPOOR</th>\n",
       "      <th>VERYRICH</th>\n",
       "    </tr>\n",
       "  </thead>\n",
       "  <tbody>\n",
       "    <tr>\n",
       "      <th>77522</th>\n",
       "      <td>0.0000</td>\n",
       "      <td>55</td>\n",
       "      <td>0.0</td>\n",
       "      <td>0.3266</td>\n",
       "      <td>6439.0</td>\n",
       "      <td>10</td>\n",
       "      <td>1</td>\n",
       "      <td>0</td>\n",
       "      <td>0</td>\n",
       "      <td>0</td>\n",
       "      <td>0</td>\n",
       "      <td>0</td>\n",
       "      <td>0</td>\n",
       "      <td>0</td>\n",
       "      <td>1</td>\n",
       "    </tr>\n",
       "    <tr>\n",
       "      <th>49457</th>\n",
       "      <td>0.0782</td>\n",
       "      <td>54</td>\n",
       "      <td>2.0</td>\n",
       "      <td>0.1411</td>\n",
       "      <td>4366.0</td>\n",
       "      <td>4</td>\n",
       "      <td>0</td>\n",
       "      <td>0</td>\n",
       "      <td>0</td>\n",
       "      <td>1</td>\n",
       "      <td>0</td>\n",
       "      <td>0</td>\n",
       "      <td>0</td>\n",
       "      <td>0</td>\n",
       "      <td>0</td>\n",
       "    </tr>\n",
       "    <tr>\n",
       "      <th>114702</th>\n",
       "      <td>0.0000</td>\n",
       "      <td>35</td>\n",
       "      <td>0.0</td>\n",
       "      <td>0.3666</td>\n",
       "      <td>6000.0</td>\n",
       "      <td>5</td>\n",
       "      <td>1</td>\n",
       "      <td>0</td>\n",
       "      <td>0</td>\n",
       "      <td>0</td>\n",
       "      <td>0</td>\n",
       "      <td>1</td>\n",
       "      <td>0</td>\n",
       "      <td>0</td>\n",
       "      <td>0</td>\n",
       "    </tr>\n",
       "    <tr>\n",
       "      <th>126322</th>\n",
       "      <td>1.0000</td>\n",
       "      <td>70</td>\n",
       "      <td>0.0</td>\n",
       "      <td>1.0000</td>\n",
       "      <td>5400.0</td>\n",
       "      <td>0</td>\n",
       "      <td>0</td>\n",
       "      <td>0</td>\n",
       "      <td>0</td>\n",
       "      <td>0</td>\n",
       "      <td>0</td>\n",
       "      <td>1</td>\n",
       "      <td>0</td>\n",
       "      <td>0</td>\n",
       "      <td>0</td>\n",
       "    </tr>\n",
       "    <tr>\n",
       "      <th>69315</th>\n",
       "      <td>0.3999</td>\n",
       "      <td>63</td>\n",
       "      <td>0.0</td>\n",
       "      <td>0.6086</td>\n",
       "      <td>10900.0</td>\n",
       "      <td>18</td>\n",
       "      <td>3</td>\n",
       "      <td>0</td>\n",
       "      <td>0</td>\n",
       "      <td>0</td>\n",
       "      <td>1</td>\n",
       "      <td>0</td>\n",
       "      <td>0</td>\n",
       "      <td>0</td>\n",
       "      <td>0</td>\n",
       "    </tr>\n",
       "  </tbody>\n",
       "</table>\n",
       "</div>"
      ],
      "text/plain": [
       "        AverageUtilization  Age  NumberOfDependents  RevolvingRatio  \\\n",
       "77522               0.0000   55                 0.0          0.3266   \n",
       "49457               0.0782   54                 2.0          0.1411   \n",
       "114702              0.0000   35                 0.0          0.3666   \n",
       "126322              1.0000   70                 0.0          1.0000   \n",
       "69315               0.3999   63                 0.0          0.6086   \n",
       "\n",
       "        MonthlyIncome  NumberOfOpenCreditLines  NumberSecuredLoansOrLines  \\\n",
       "77522          6439.0                       10                          1   \n",
       "49457          4366.0                        4                          0   \n",
       "114702         6000.0                        5                          1   \n",
       "126322         5400.0                        0                          0   \n",
       "69315         10900.0                       18                          3   \n",
       "\n",
       "        NumberOfCreditEnquiry  LOWMIDDLE  MIDDLE  POOR  RICH  VERYMIDDLE  \\\n",
       "77522                       0          0       0     0     0           0   \n",
       "49457                       0          0       1     0     0           0   \n",
       "114702                      0          0       0     0     1           0   \n",
       "126322                      0          0       0     0     1           0   \n",
       "69315                       0          0       0     1     0           0   \n",
       "\n",
       "        VERYPOOR  VERYRICH  \n",
       "77522          0         1  \n",
       "49457          0         0  \n",
       "114702         0         0  \n",
       "126322         0         0  \n",
       "69315          0         0  "
      ]
     },
     "execution_count": 41,
     "metadata": {},
     "output_type": "execute_result"
    }
   ],
   "source": [
    "X_train = X_train.drop('status', axis=1)\n",
    "X_train"
   ]
  },
  {
   "cell_type": "code",
   "execution_count": 42,
   "id": "ef75ec2f",
   "metadata": {
    "execution": {
     "iopub.execute_input": "2023-01-19T23:43:27.391296Z",
     "iopub.status.busy": "2023-01-19T23:43:27.390412Z",
     "iopub.status.idle": "2023-01-19T23:43:27.394700Z",
     "shell.execute_reply": "2023-01-19T23:43:27.393963Z"
    },
    "papermill": {
     "duration": 0.033488,
     "end_time": "2023-01-19T23:43:27.397083",
     "exception": false,
     "start_time": "2023-01-19T23:43:27.363595",
     "status": "completed"
    },
    "tags": []
   },
   "outputs": [],
   "source": [
    "# also encoding for test datasets"
   ]
  },
  {
   "cell_type": "code",
   "execution_count": 43,
   "id": "6e3e2817",
   "metadata": {
    "execution": {
     "iopub.execute_input": "2023-01-19T23:43:27.446838Z",
     "iopub.status.busy": "2023-01-19T23:43:27.446116Z",
     "iopub.status.idle": "2023-01-19T23:43:27.471897Z",
     "shell.execute_reply": "2023-01-19T23:43:27.471100Z"
    },
    "papermill": {
     "duration": 0.05283,
     "end_time": "2023-01-19T23:43:27.473975",
     "exception": false,
     "start_time": "2023-01-19T23:43:27.421145",
     "status": "completed"
    },
    "tags": []
   },
   "outputs": [
    {
     "data": {
      "text/html": [
       "<div>\n",
       "<style scoped>\n",
       "    .dataframe tbody tr th:only-of-type {\n",
       "        vertical-align: middle;\n",
       "    }\n",
       "\n",
       "    .dataframe tbody tr th {\n",
       "        vertical-align: top;\n",
       "    }\n",
       "\n",
       "    .dataframe thead th {\n",
       "        text-align: right;\n",
       "    }\n",
       "</style>\n",
       "<table border=\"1\" class=\"dataframe\">\n",
       "  <thead>\n",
       "    <tr style=\"text-align: right;\">\n",
       "      <th></th>\n",
       "      <th>AverageUtilization</th>\n",
       "      <th>Age</th>\n",
       "      <th>NumberOfDependents</th>\n",
       "      <th>RevolvingRatio</th>\n",
       "      <th>MonthlyIncome</th>\n",
       "      <th>NumberOfOpenCreditLines</th>\n",
       "      <th>NumberSecuredLoansOrLines</th>\n",
       "      <th>NumberOfCreditEnquiry</th>\n",
       "      <th>LOWMIDDLE</th>\n",
       "      <th>MIDDLE</th>\n",
       "      <th>POOR</th>\n",
       "      <th>RICH</th>\n",
       "      <th>VERYMIDDLE</th>\n",
       "      <th>VERYPOOR</th>\n",
       "      <th>VERYRICH</th>\n",
       "    </tr>\n",
       "  </thead>\n",
       "  <tbody>\n",
       "    <tr>\n",
       "      <th>124338</th>\n",
       "      <td>0.0315</td>\n",
       "      <td>59</td>\n",
       "      <td>0.0</td>\n",
       "      <td>0.0037</td>\n",
       "      <td>9900.0</td>\n",
       "      <td>3</td>\n",
       "      <td>0</td>\n",
       "      <td>0</td>\n",
       "      <td>0</td>\n",
       "      <td>0</td>\n",
       "      <td>0</td>\n",
       "      <td>0</td>\n",
       "      <td>0</td>\n",
       "      <td>0</td>\n",
       "      <td>1</td>\n",
       "    </tr>\n",
       "    <tr>\n",
       "      <th>32107</th>\n",
       "      <td>0.6172</td>\n",
       "      <td>58</td>\n",
       "      <td>0.0</td>\n",
       "      <td>0.0427</td>\n",
       "      <td>1450.0</td>\n",
       "      <td>8</td>\n",
       "      <td>0</td>\n",
       "      <td>0</td>\n",
       "      <td>0</td>\n",
       "      <td>0</td>\n",
       "      <td>0</td>\n",
       "      <td>0</td>\n",
       "      <td>0</td>\n",
       "      <td>1</td>\n",
       "      <td>0</td>\n",
       "    </tr>\n",
       "    <tr>\n",
       "      <th>91531</th>\n",
       "      <td>0.0848</td>\n",
       "      <td>29</td>\n",
       "      <td>0.0</td>\n",
       "      <td>0.1147</td>\n",
       "      <td>4200.0</td>\n",
       "      <td>4</td>\n",
       "      <td>0</td>\n",
       "      <td>0</td>\n",
       "      <td>0</td>\n",
       "      <td>0</td>\n",
       "      <td>0</td>\n",
       "      <td>0</td>\n",
       "      <td>1</td>\n",
       "      <td>0</td>\n",
       "      <td>0</td>\n",
       "    </tr>\n",
       "    <tr>\n",
       "      <th>10740</th>\n",
       "      <td>0.0000</td>\n",
       "      <td>46</td>\n",
       "      <td>2.0</td>\n",
       "      <td>4120.0000</td>\n",
       "      <td>0.0</td>\n",
       "      <td>10</td>\n",
       "      <td>2</td>\n",
       "      <td>0</td>\n",
       "      <td>0</td>\n",
       "      <td>1</td>\n",
       "      <td>0</td>\n",
       "      <td>0</td>\n",
       "      <td>0</td>\n",
       "      <td>0</td>\n",
       "      <td>0</td>\n",
       "    </tr>\n",
       "    <tr>\n",
       "      <th>107657</th>\n",
       "      <td>0.4003</td>\n",
       "      <td>44</td>\n",
       "      <td>0.0</td>\n",
       "      <td>0.2683</td>\n",
       "      <td>9417.0</td>\n",
       "      <td>10</td>\n",
       "      <td>2</td>\n",
       "      <td>0</td>\n",
       "      <td>0</td>\n",
       "      <td>0</td>\n",
       "      <td>0</td>\n",
       "      <td>0</td>\n",
       "      <td>0</td>\n",
       "      <td>0</td>\n",
       "      <td>1</td>\n",
       "    </tr>\n",
       "  </tbody>\n",
       "</table>\n",
       "</div>"
      ],
      "text/plain": [
       "        AverageUtilization  Age  NumberOfDependents  RevolvingRatio  \\\n",
       "124338              0.0315   59                 0.0          0.0037   \n",
       "32107               0.6172   58                 0.0          0.0427   \n",
       "91531               0.0848   29                 0.0          0.1147   \n",
       "10740               0.0000   46                 2.0       4120.0000   \n",
       "107657              0.4003   44                 0.0          0.2683   \n",
       "\n",
       "        MonthlyIncome  NumberOfOpenCreditLines  NumberSecuredLoansOrLines  \\\n",
       "124338         9900.0                        3                          0   \n",
       "32107          1450.0                        8                          0   \n",
       "91531          4200.0                        4                          0   \n",
       "10740             0.0                       10                          2   \n",
       "107657         9417.0                       10                          2   \n",
       "\n",
       "        NumberOfCreditEnquiry  LOWMIDDLE  MIDDLE  POOR  RICH  VERYMIDDLE  \\\n",
       "124338                      0          0       0     0     0           0   \n",
       "32107                       0          0       0     0     0           0   \n",
       "91531                       0          0       0     0     0           1   \n",
       "10740                       0          0       1     0     0           0   \n",
       "107657                      0          0       0     0     0           0   \n",
       "\n",
       "        VERYPOOR  VERYRICH  \n",
       "124338         0         1  \n",
       "32107          1         0  \n",
       "91531          0         0  \n",
       "10740          0         0  \n",
       "107657         0         1  "
      ]
     },
     "execution_count": 43,
     "metadata": {},
     "output_type": "execute_result"
    }
   ],
   "source": [
    "status_enc_t = pd.get_dummies(X_test['status'])\n",
    "\n",
    "X_test = pd.concat([X_test, status_enc_t], axis=1).head()\n",
    "X_test = X_test.drop('status', axis=1)\n",
    "X_test"
   ]
  },
  {
   "cell_type": "code",
   "execution_count": null,
   "id": "0162f52a",
   "metadata": {
    "papermill": {
     "duration": 0.023867,
     "end_time": "2023-01-19T23:43:27.521542",
     "exception": false,
     "start_time": "2023-01-19T23:43:27.497675",
     "status": "completed"
    },
    "tags": []
   },
   "outputs": [],
   "source": []
  },
  {
   "cell_type": "markdown",
   "id": "9b9de10f",
   "metadata": {
    "papermill": {
     "duration": 0.023731,
     "end_time": "2023-01-19T23:43:27.569130",
     "exception": false,
     "start_time": "2023-01-19T23:43:27.545399",
     "status": "completed"
    },
    "tags": []
   },
   "source": [
    "# Feature Scaling "
   ]
  },
  {
   "cell_type": "markdown",
   "id": "58f2934a",
   "metadata": {
    "papermill": {
     "duration": 0.023283,
     "end_time": "2023-01-19T23:43:27.615952",
     "exception": false,
     "start_time": "2023-01-19T23:43:27.592669",
     "status": "completed"
    },
    "tags": []
   },
   "source": []
  },
  {
   "cell_type": "code",
   "execution_count": null,
   "id": "0e1e7cdb",
   "metadata": {
    "papermill": {
     "duration": 0.023412,
     "end_time": "2023-01-19T23:43:27.663639",
     "exception": false,
     "start_time": "2023-01-19T23:43:27.640227",
     "status": "completed"
    },
    "tags": []
   },
   "outputs": [],
   "source": []
  },
  {
   "cell_type": "code",
   "execution_count": null,
   "id": "d4d59eb7",
   "metadata": {
    "papermill": {
     "duration": 0.024048,
     "end_time": "2023-01-19T23:43:27.711593",
     "exception": false,
     "start_time": "2023-01-19T23:43:27.687545",
     "status": "completed"
    },
    "tags": []
   },
   "outputs": [],
   "source": []
  },
  {
   "cell_type": "code",
   "execution_count": null,
   "id": "3e2c780e",
   "metadata": {
    "papermill": {
     "duration": 0.024096,
     "end_time": "2023-01-19T23:43:27.760087",
     "exception": false,
     "start_time": "2023-01-19T23:43:27.735991",
     "status": "completed"
    },
    "tags": []
   },
   "outputs": [],
   "source": []
  },
  {
   "cell_type": "code",
   "execution_count": null,
   "id": "71b4f38d",
   "metadata": {
    "papermill": {
     "duration": 0.023322,
     "end_time": "2023-01-19T23:43:27.808147",
     "exception": false,
     "start_time": "2023-01-19T23:43:27.784825",
     "status": "completed"
    },
    "tags": []
   },
   "outputs": [],
   "source": []
  },
  {
   "cell_type": "code",
   "execution_count": null,
   "id": "89a1cb10",
   "metadata": {
    "papermill": {
     "duration": 0.023141,
     "end_time": "2023-01-19T23:43:27.854905",
     "exception": false,
     "start_time": "2023-01-19T23:43:27.831764",
     "status": "completed"
    },
    "tags": []
   },
   "outputs": [],
   "source": []
  },
  {
   "cell_type": "code",
   "execution_count": null,
   "id": "56f973f7",
   "metadata": {
    "papermill": {
     "duration": 0.02349,
     "end_time": "2023-01-19T23:43:27.902000",
     "exception": false,
     "start_time": "2023-01-19T23:43:27.878510",
     "status": "completed"
    },
    "tags": []
   },
   "outputs": [],
   "source": []
  },
  {
   "cell_type": "code",
   "execution_count": null,
   "id": "42b911c4",
   "metadata": {
    "papermill": {
     "duration": 0.023443,
     "end_time": "2023-01-19T23:43:27.949100",
     "exception": false,
     "start_time": "2023-01-19T23:43:27.925657",
     "status": "completed"
    },
    "tags": []
   },
   "outputs": [],
   "source": []
  },
  {
   "cell_type": "code",
   "execution_count": null,
   "id": "0906c82c",
   "metadata": {
    "papermill": {
     "duration": 0.02358,
     "end_time": "2023-01-19T23:43:27.996480",
     "exception": false,
     "start_time": "2023-01-19T23:43:27.972900",
     "status": "completed"
    },
    "tags": []
   },
   "outputs": [],
   "source": []
  },
  {
   "cell_type": "code",
   "execution_count": null,
   "id": "1da59973",
   "metadata": {
    "papermill": {
     "duration": 0.023483,
     "end_time": "2023-01-19T23:43:28.043478",
     "exception": false,
     "start_time": "2023-01-19T23:43:28.019995",
     "status": "completed"
    },
    "tags": []
   },
   "outputs": [],
   "source": []
  },
  {
   "cell_type": "code",
   "execution_count": null,
   "id": "22140b37",
   "metadata": {
    "papermill": {
     "duration": 0.023356,
     "end_time": "2023-01-19T23:43:28.090489",
     "exception": false,
     "start_time": "2023-01-19T23:43:28.067133",
     "status": "completed"
    },
    "tags": []
   },
   "outputs": [],
   "source": []
  },
  {
   "cell_type": "code",
   "execution_count": null,
   "id": "7429d32d",
   "metadata": {
    "papermill": {
     "duration": 0.023302,
     "end_time": "2023-01-19T23:43:28.137609",
     "exception": false,
     "start_time": "2023-01-19T23:43:28.114307",
     "status": "completed"
    },
    "tags": []
   },
   "outputs": [],
   "source": []
  },
  {
   "cell_type": "code",
   "execution_count": null,
   "id": "c831e30e",
   "metadata": {
    "papermill": {
     "duration": 0.02345,
     "end_time": "2023-01-19T23:43:28.184844",
     "exception": false,
     "start_time": "2023-01-19T23:43:28.161394",
     "status": "completed"
    },
    "tags": []
   },
   "outputs": [],
   "source": []
  },
  {
   "cell_type": "code",
   "execution_count": null,
   "id": "03009ddd",
   "metadata": {
    "papermill": {
     "duration": 0.023586,
     "end_time": "2023-01-19T23:43:28.232799",
     "exception": false,
     "start_time": "2023-01-19T23:43:28.209213",
     "status": "completed"
    },
    "tags": []
   },
   "outputs": [],
   "source": []
  },
  {
   "cell_type": "code",
   "execution_count": null,
   "id": "1ea16b82",
   "metadata": {
    "papermill": {
     "duration": 0.023427,
     "end_time": "2023-01-19T23:43:28.280134",
     "exception": false,
     "start_time": "2023-01-19T23:43:28.256707",
     "status": "completed"
    },
    "tags": []
   },
   "outputs": [],
   "source": []
  },
  {
   "cell_type": "code",
   "execution_count": null,
   "id": "d9267712",
   "metadata": {
    "papermill": {
     "duration": 0.023755,
     "end_time": "2023-01-19T23:43:28.327583",
     "exception": false,
     "start_time": "2023-01-19T23:43:28.303828",
     "status": "completed"
    },
    "tags": []
   },
   "outputs": [],
   "source": []
  },
  {
   "cell_type": "code",
   "execution_count": null,
   "id": "96d2dbd8",
   "metadata": {
    "papermill": {
     "duration": 0.023367,
     "end_time": "2023-01-19T23:43:28.374706",
     "exception": false,
     "start_time": "2023-01-19T23:43:28.351339",
     "status": "completed"
    },
    "tags": []
   },
   "outputs": [],
   "source": []
  },
  {
   "cell_type": "code",
   "execution_count": null,
   "id": "795d7821",
   "metadata": {
    "papermill": {
     "duration": 0.033656,
     "end_time": "2023-01-19T23:43:28.437422",
     "exception": false,
     "start_time": "2023-01-19T23:43:28.403766",
     "status": "completed"
    },
    "tags": []
   },
   "outputs": [],
   "source": []
  }
 ],
 "metadata": {
  "kernelspec": {
   "display_name": "Python 3",
   "language": "python",
   "name": "python3"
  },
  "language_info": {
   "codemirror_mode": {
    "name": "ipython",
    "version": 3
   },
   "file_extension": ".py",
   "mimetype": "text/x-python",
   "name": "python",
   "nbconvert_exporter": "python",
   "pygments_lexer": "ipython3",
   "version": "3.7.12"
  },
  "papermill": {
   "default_parameters": {},
   "duration": 22.816309,
   "end_time": "2023-01-19T23:43:29.294792",
   "environment_variables": {},
   "exception": null,
   "input_path": "__notebook__.ipynb",
   "output_path": "__notebook__.ipynb",
   "parameters": {},
   "start_time": "2023-01-19T23:43:06.478483",
   "version": "2.3.4"
  }
 },
 "nbformat": 4,
 "nbformat_minor": 5
}
